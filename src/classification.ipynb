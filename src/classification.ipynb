{
 "cells": [
  {
   "cell_type": "code",
   "execution_count": 21,
   "id": "f09d8acc",
   "metadata": {},
   "outputs": [],
   "source": [
    "import pandas as pd\n",
    "import numpy as np\n",
    "import sklearn\n",
    "from matplotlib import pyplot as plt\n",
    "from pandas_profiling import ProfileReport\n",
    "from category_encoders import BinaryEncoder, CountEncoder, OrdinalEncoder"
   ]
  },
  {
   "cell_type": "code",
   "execution_count": 4,
   "id": "1b2d17b0",
   "metadata": {},
   "outputs": [],
   "source": [
    "base = './stream_quality_data_class/'"
   ]
  },
  {
   "cell_type": "code",
   "execution_count": 5,
   "id": "ce4ccc5b",
   "metadata": {},
   "outputs": [],
   "source": [
    "df = pd.read_csv(base + 'train_data.csv')"
   ]
  },
  {
   "cell_type": "code",
   "execution_count": 11,
   "id": "b9776cbf",
   "metadata": {},
   "outputs": [
    {
     "data": {
      "text/plain": [
       "(243596, 12)"
      ]
     },
     "execution_count": 11,
     "metadata": {},
     "output_type": "execute_result"
    }
   ],
   "source": [
    "pd.read_csv(base + 'test_data.csv').shape"
   ]
  },
  {
   "cell_type": "code",
   "execution_count": 6,
   "id": "ab396395",
   "metadata": {
    "scrolled": true
   },
   "outputs": [],
   "source": [
    "def _check_nans(df):\n",
    "    \"\"\"returns num of empty items in a dataframe\"\"\"\n",
    "    return df.isna().sum().sum()"
   ]
  },
  {
   "cell_type": "code",
   "execution_count": 7,
   "id": "3d8d5b1d",
   "metadata": {},
   "outputs": [
    {
     "data": {
      "text/html": [
       "<div>\n",
       "<style scoped>\n",
       "    .dataframe tbody tr th:only-of-type {\n",
       "        vertical-align: middle;\n",
       "    }\n",
       "\n",
       "    .dataframe tbody tr th {\n",
       "        vertical-align: top;\n",
       "    }\n",
       "\n",
       "    .dataframe thead th {\n",
       "        text-align: right;\n",
       "    }\n",
       "</style>\n",
       "<table border=\"1\" class=\"dataframe\">\n",
       "  <thead>\n",
       "    <tr style=\"text-align: right;\">\n",
       "      <th></th>\n",
       "      <th>fps_mean</th>\n",
       "      <th>fps_std</th>\n",
       "      <th>fps_lags</th>\n",
       "      <th>rtt_mean</th>\n",
       "      <th>rtt_std</th>\n",
       "      <th>dropped_frames_mean</th>\n",
       "      <th>dropped_frames_std</th>\n",
       "      <th>dropped_frames_max</th>\n",
       "      <th>auto_bitrate_state</th>\n",
       "      <th>auto_fec_state</th>\n",
       "      <th>auto_fec_mean</th>\n",
       "      <th>stream_quality</th>\n",
       "    </tr>\n",
       "  </thead>\n",
       "  <tbody>\n",
       "    <tr>\n",
       "      <th>0</th>\n",
       "      <td>24.4</td>\n",
       "      <td>0.516398</td>\n",
       "      <td>0</td>\n",
       "      <td>91.1</td>\n",
       "      <td>6.723921</td>\n",
       "      <td>0.0</td>\n",
       "      <td>0.0</td>\n",
       "      <td>0.0</td>\n",
       "      <td>off</td>\n",
       "      <td>partial</td>\n",
       "      <td>50.0</td>\n",
       "      <td>0</td>\n",
       "    </tr>\n",
       "    <tr>\n",
       "      <th>1</th>\n",
       "      <td>28.6</td>\n",
       "      <td>2.065591</td>\n",
       "      <td>0</td>\n",
       "      <td>99.7</td>\n",
       "      <td>15.923777</td>\n",
       "      <td>0.0</td>\n",
       "      <td>0.0</td>\n",
       "      <td>0.0</td>\n",
       "      <td>off</td>\n",
       "      <td>partial</td>\n",
       "      <td>50.0</td>\n",
       "      <td>0</td>\n",
       "    </tr>\n",
       "    <tr>\n",
       "      <th>2</th>\n",
       "      <td>30.0</td>\n",
       "      <td>0.000000</td>\n",
       "      <td>0</td>\n",
       "      <td>98.1</td>\n",
       "      <td>11.798776</td>\n",
       "      <td>0.0</td>\n",
       "      <td>0.0</td>\n",
       "      <td>0.0</td>\n",
       "      <td>off</td>\n",
       "      <td>partial</td>\n",
       "      <td>50.0</td>\n",
       "      <td>0</td>\n",
       "    </tr>\n",
       "    <tr>\n",
       "      <th>3</th>\n",
       "      <td>30.3</td>\n",
       "      <td>0.948683</td>\n",
       "      <td>0</td>\n",
       "      <td>99.4</td>\n",
       "      <td>13.014522</td>\n",
       "      <td>0.0</td>\n",
       "      <td>0.0</td>\n",
       "      <td>0.0</td>\n",
       "      <td>off</td>\n",
       "      <td>partial</td>\n",
       "      <td>50.0</td>\n",
       "      <td>0</td>\n",
       "    </tr>\n",
       "    <tr>\n",
       "      <th>4</th>\n",
       "      <td>29.9</td>\n",
       "      <td>0.316228</td>\n",
       "      <td>0</td>\n",
       "      <td>123.2</td>\n",
       "      <td>62.476307</td>\n",
       "      <td>0.0</td>\n",
       "      <td>0.0</td>\n",
       "      <td>0.0</td>\n",
       "      <td>off</td>\n",
       "      <td>partial</td>\n",
       "      <td>50.0</td>\n",
       "      <td>0</td>\n",
       "    </tr>\n",
       "    <tr>\n",
       "      <th>...</th>\n",
       "      <td>...</td>\n",
       "      <td>...</td>\n",
       "      <td>...</td>\n",
       "      <td>...</td>\n",
       "      <td>...</td>\n",
       "      <td>...</td>\n",
       "      <td>...</td>\n",
       "      <td>...</td>\n",
       "      <td>...</td>\n",
       "      <td>...</td>\n",
       "      <td>...</td>\n",
       "      <td>...</td>\n",
       "    </tr>\n",
       "    <tr>\n",
       "      <th>406567</th>\n",
       "      <td>40.0</td>\n",
       "      <td>0.000000</td>\n",
       "      <td>0</td>\n",
       "      <td>0.0</td>\n",
       "      <td>0.000000</td>\n",
       "      <td>0.0</td>\n",
       "      <td>0.0</td>\n",
       "      <td>0.0</td>\n",
       "      <td>full</td>\n",
       "      <td>partial</td>\n",
       "      <td>50.0</td>\n",
       "      <td>0</td>\n",
       "    </tr>\n",
       "    <tr>\n",
       "      <th>406568</th>\n",
       "      <td>40.0</td>\n",
       "      <td>0.000000</td>\n",
       "      <td>0</td>\n",
       "      <td>0.0</td>\n",
       "      <td>0.000000</td>\n",
       "      <td>0.0</td>\n",
       "      <td>0.0</td>\n",
       "      <td>0.0</td>\n",
       "      <td>full</td>\n",
       "      <td>partial</td>\n",
       "      <td>50.0</td>\n",
       "      <td>0</td>\n",
       "    </tr>\n",
       "    <tr>\n",
       "      <th>406569</th>\n",
       "      <td>40.0</td>\n",
       "      <td>0.000000</td>\n",
       "      <td>0</td>\n",
       "      <td>0.0</td>\n",
       "      <td>0.000000</td>\n",
       "      <td>0.0</td>\n",
       "      <td>0.0</td>\n",
       "      <td>0.0</td>\n",
       "      <td>full</td>\n",
       "      <td>partial</td>\n",
       "      <td>50.0</td>\n",
       "      <td>0</td>\n",
       "    </tr>\n",
       "    <tr>\n",
       "      <th>406570</th>\n",
       "      <td>40.0</td>\n",
       "      <td>0.000000</td>\n",
       "      <td>0</td>\n",
       "      <td>0.0</td>\n",
       "      <td>0.000000</td>\n",
       "      <td>0.0</td>\n",
       "      <td>0.0</td>\n",
       "      <td>0.0</td>\n",
       "      <td>full</td>\n",
       "      <td>partial</td>\n",
       "      <td>50.0</td>\n",
       "      <td>0</td>\n",
       "    </tr>\n",
       "    <tr>\n",
       "      <th>406571</th>\n",
       "      <td>40.0</td>\n",
       "      <td>0.000000</td>\n",
       "      <td>0</td>\n",
       "      <td>0.0</td>\n",
       "      <td>0.000000</td>\n",
       "      <td>0.0</td>\n",
       "      <td>0.0</td>\n",
       "      <td>0.0</td>\n",
       "      <td>full</td>\n",
       "      <td>partial</td>\n",
       "      <td>50.0</td>\n",
       "      <td>0</td>\n",
       "    </tr>\n",
       "  </tbody>\n",
       "</table>\n",
       "<p>406572 rows × 12 columns</p>\n",
       "</div>"
      ],
      "text/plain": [
       "        fps_mean   fps_std  fps_lags  rtt_mean    rtt_std  \\\n",
       "0           24.4  0.516398         0      91.1   6.723921   \n",
       "1           28.6  2.065591         0      99.7  15.923777   \n",
       "2           30.0  0.000000         0      98.1  11.798776   \n",
       "3           30.3  0.948683         0      99.4  13.014522   \n",
       "4           29.9  0.316228         0     123.2  62.476307   \n",
       "...          ...       ...       ...       ...        ...   \n",
       "406567      40.0  0.000000         0       0.0   0.000000   \n",
       "406568      40.0  0.000000         0       0.0   0.000000   \n",
       "406569      40.0  0.000000         0       0.0   0.000000   \n",
       "406570      40.0  0.000000         0       0.0   0.000000   \n",
       "406571      40.0  0.000000         0       0.0   0.000000   \n",
       "\n",
       "        dropped_frames_mean  dropped_frames_std  dropped_frames_max  \\\n",
       "0                       0.0                 0.0                 0.0   \n",
       "1                       0.0                 0.0                 0.0   \n",
       "2                       0.0                 0.0                 0.0   \n",
       "3                       0.0                 0.0                 0.0   \n",
       "4                       0.0                 0.0                 0.0   \n",
       "...                     ...                 ...                 ...   \n",
       "406567                  0.0                 0.0                 0.0   \n",
       "406568                  0.0                 0.0                 0.0   \n",
       "406569                  0.0                 0.0                 0.0   \n",
       "406570                  0.0                 0.0                 0.0   \n",
       "406571                  0.0                 0.0                 0.0   \n",
       "\n",
       "       auto_bitrate_state auto_fec_state  auto_fec_mean  stream_quality  \n",
       "0                     off        partial           50.0               0  \n",
       "1                     off        partial           50.0               0  \n",
       "2                     off        partial           50.0               0  \n",
       "3                     off        partial           50.0               0  \n",
       "4                     off        partial           50.0               0  \n",
       "...                   ...            ...            ...             ...  \n",
       "406567               full        partial           50.0               0  \n",
       "406568               full        partial           50.0               0  \n",
       "406569               full        partial           50.0               0  \n",
       "406570               full        partial           50.0               0  \n",
       "406571               full        partial           50.0               0  \n",
       "\n",
       "[406572 rows x 12 columns]"
      ]
     },
     "execution_count": 7,
     "metadata": {},
     "output_type": "execute_result"
    }
   ],
   "source": [
    "df"
   ]
  },
  {
   "cell_type": "code",
   "execution_count": 8,
   "id": "e517d9f1",
   "metadata": {},
   "outputs": [
    {
     "data": {
      "text/plain": [
       "12"
      ]
     },
     "execution_count": 8,
     "metadata": {},
     "output_type": "execute_result"
    }
   ],
   "source": [
    "len(df.columns)"
   ]
  },
  {
   "cell_type": "code",
   "execution_count": 57,
   "id": "3f9bdf51",
   "metadata": {},
   "outputs": [
    {
     "data": {
      "text/plain": [
       "'Total no of empty cells in dataframe: 0'"
      ]
     },
     "execution_count": 57,
     "metadata": {},
     "output_type": "execute_result"
    }
   ],
   "source": [
    "\"Total no of empty cells in dataframe: %d\" % _check_nans(df)"
   ]
  },
  {
   "cell_type": "code",
   "execution_count": 10,
   "id": "9bf8dc58",
   "metadata": {},
   "outputs": [
    {
     "data": {
      "text/plain": [
       "(406572, 12)"
      ]
     },
     "execution_count": 10,
     "metadata": {},
     "output_type": "execute_result"
    }
   ],
   "source": [
    "df.shape"
   ]
  },
  {
   "cell_type": "markdown",
   "id": "8bccd7f9",
   "metadata": {},
   "source": [
    "### Preprocess"
   ]
  },
  {
   "cell_type": "code",
   "execution_count": 9,
   "id": "0e2182e8",
   "metadata": {},
   "outputs": [
    {
     "name": "stdout",
     "output_type": "stream",
     "text": [
      "Total duplicates in the dataset: 33430\n"
     ]
    }
   ],
   "source": [
    "print(\"Total duplicates in the dataset: %d\" % df.duplicated().sum())"
   ]
  },
  {
   "cell_type": "code",
   "execution_count": 59,
   "id": "0fa60de6",
   "metadata": {},
   "outputs": [],
   "source": [
    "df = df.drop_duplicates().reset_index(drop=True)  # dropping duplicates"
   ]
  },
  {
   "cell_type": "code",
   "execution_count": 60,
   "id": "0558815d",
   "metadata": {},
   "outputs": [
    {
     "data": {
      "text/plain": [
       "fps_mean               float64\n",
       "fps_std                float64\n",
       "fps_lags                 int64\n",
       "rtt_mean               float64\n",
       "rtt_std                float64\n",
       "dropped_frames_mean    float64\n",
       "dropped_frames_std     float64\n",
       "dropped_frames_max     float64\n",
       "auto_bitrate_state      object\n",
       "auto_fec_state          object\n",
       "auto_fec_mean          float64\n",
       "stream_quality           int64\n",
       "dtype: object"
      ]
     },
     "execution_count": 60,
     "metadata": {},
     "output_type": "execute_result"
    }
   ],
   "source": [
    "df.dtypes"
   ]
  },
  {
   "cell_type": "code",
   "execution_count": 65,
   "id": "3848d2ca",
   "metadata": {},
   "outputs": [
    {
     "name": "stdout",
     "output_type": "stream",
     "text": [
      "fps_mean has NA:  4131\n",
      "fps_std has NA:  97096\n",
      "fps_lags has NA:  379021\n",
      "rtt_mean has NA:  9597\n",
      "rtt_std has NA:  19986\n",
      "dropped_frames_mean has NA:  375215\n",
      "dropped_frames_std has NA:  377427\n",
      "dropped_frames_max has NA:  375215\n",
      "auto_bitrate_state has NA:  False\n",
      "auto_fec_state has NA:  False\n",
      "auto_fec_mean has NA:  47276\n",
      "stream_quality has NA:  378738\n"
     ]
    }
   ],
   "source": [
    "cat_cols = []\n",
    "\n",
    "for col in df.columns:\n",
    "    if df[col].dtype == 'object':\n",
    "        print(f\"{col} has NA: \", pd.isna(df[col].sum()))\n",
    "        cat_cols.append(col)\n",
    "    elif df[col].dtype == np.int64:\n",
    "        print(f\"{col} has NA: \", (df[col] == 0).sum())\n",
    "    else:\n",
    "        print(f\"{col} has NA: \", (df[col] == 0.0).sum())\n",
    "        "
   ]
  },
  {
   "cell_type": "code",
   "execution_count": 66,
   "id": "b513498e",
   "metadata": {},
   "outputs": [
    {
     "name": "stdout",
     "output_type": "stream",
     "text": [
      "Categorical Columns:  ['auto_bitrate_state', 'auto_fec_state']\n"
     ]
    }
   ],
   "source": [
    "print(\"Categorical Columns: \", cat_cols)"
   ]
  },
  {
   "cell_type": "code",
   "execution_count": 67,
   "id": "53083ca6",
   "metadata": {},
   "outputs": [],
   "source": [
    "def encode_data(df, cat_cols, oe=None):\n",
    "    if not oe:\n",
    "        oe = OrdinalEncoder(cols = cat_cols).fit(df)\n",
    "    df_enc = oe.transform(df)\n",
    "    return oe, df_enc "
   ]
  },
  {
   "cell_type": "code",
   "execution_count": 68,
   "id": "b91d850b",
   "metadata": {},
   "outputs": [
    {
     "data": {
      "text/html": [
       "<div>\n",
       "<style scoped>\n",
       "    .dataframe tbody tr th:only-of-type {\n",
       "        vertical-align: middle;\n",
       "    }\n",
       "\n",
       "    .dataframe tbody tr th {\n",
       "        vertical-align: top;\n",
       "    }\n",
       "\n",
       "    .dataframe thead th {\n",
       "        text-align: right;\n",
       "    }\n",
       "</style>\n",
       "<table border=\"1\" class=\"dataframe\">\n",
       "  <thead>\n",
       "    <tr style=\"text-align: right;\">\n",
       "      <th></th>\n",
       "      <th>fps_mean</th>\n",
       "      <th>fps_std</th>\n",
       "      <th>fps_lags</th>\n",
       "      <th>rtt_mean</th>\n",
       "      <th>rtt_std</th>\n",
       "      <th>dropped_frames_mean</th>\n",
       "      <th>dropped_frames_std</th>\n",
       "      <th>dropped_frames_max</th>\n",
       "      <th>auto_bitrate_state</th>\n",
       "      <th>auto_fec_state</th>\n",
       "      <th>auto_fec_mean</th>\n",
       "      <th>stream_quality</th>\n",
       "    </tr>\n",
       "  </thead>\n",
       "  <tbody>\n",
       "    <tr>\n",
       "      <th>0</th>\n",
       "      <td>24.4</td>\n",
       "      <td>0.516398</td>\n",
       "      <td>0</td>\n",
       "      <td>91.1</td>\n",
       "      <td>6.723921</td>\n",
       "      <td>0.0</td>\n",
       "      <td>0.0</td>\n",
       "      <td>0.0</td>\n",
       "      <td>1</td>\n",
       "      <td>1</td>\n",
       "      <td>50.0</td>\n",
       "      <td>0</td>\n",
       "    </tr>\n",
       "    <tr>\n",
       "      <th>1</th>\n",
       "      <td>28.6</td>\n",
       "      <td>2.065591</td>\n",
       "      <td>0</td>\n",
       "      <td>99.7</td>\n",
       "      <td>15.923777</td>\n",
       "      <td>0.0</td>\n",
       "      <td>0.0</td>\n",
       "      <td>0.0</td>\n",
       "      <td>1</td>\n",
       "      <td>1</td>\n",
       "      <td>50.0</td>\n",
       "      <td>0</td>\n",
       "    </tr>\n",
       "    <tr>\n",
       "      <th>2</th>\n",
       "      <td>30.0</td>\n",
       "      <td>0.000000</td>\n",
       "      <td>0</td>\n",
       "      <td>98.1</td>\n",
       "      <td>11.798776</td>\n",
       "      <td>0.0</td>\n",
       "      <td>0.0</td>\n",
       "      <td>0.0</td>\n",
       "      <td>1</td>\n",
       "      <td>1</td>\n",
       "      <td>50.0</td>\n",
       "      <td>0</td>\n",
       "    </tr>\n",
       "    <tr>\n",
       "      <th>3</th>\n",
       "      <td>30.3</td>\n",
       "      <td>0.948683</td>\n",
       "      <td>0</td>\n",
       "      <td>99.4</td>\n",
       "      <td>13.014522</td>\n",
       "      <td>0.0</td>\n",
       "      <td>0.0</td>\n",
       "      <td>0.0</td>\n",
       "      <td>1</td>\n",
       "      <td>1</td>\n",
       "      <td>50.0</td>\n",
       "      <td>0</td>\n",
       "    </tr>\n",
       "    <tr>\n",
       "      <th>4</th>\n",
       "      <td>29.9</td>\n",
       "      <td>0.316228</td>\n",
       "      <td>0</td>\n",
       "      <td>123.2</td>\n",
       "      <td>62.476307</td>\n",
       "      <td>0.0</td>\n",
       "      <td>0.0</td>\n",
       "      <td>0.0</td>\n",
       "      <td>1</td>\n",
       "      <td>1</td>\n",
       "      <td>50.0</td>\n",
       "      <td>0</td>\n",
       "    </tr>\n",
       "    <tr>\n",
       "      <th>...</th>\n",
       "      <td>...</td>\n",
       "      <td>...</td>\n",
       "      <td>...</td>\n",
       "      <td>...</td>\n",
       "      <td>...</td>\n",
       "      <td>...</td>\n",
       "      <td>...</td>\n",
       "      <td>...</td>\n",
       "      <td>...</td>\n",
       "      <td>...</td>\n",
       "      <td>...</td>\n",
       "      <td>...</td>\n",
       "    </tr>\n",
       "    <tr>\n",
       "      <th>406567</th>\n",
       "      <td>40.0</td>\n",
       "      <td>0.000000</td>\n",
       "      <td>0</td>\n",
       "      <td>0.0</td>\n",
       "      <td>0.000000</td>\n",
       "      <td>0.0</td>\n",
       "      <td>0.0</td>\n",
       "      <td>0.0</td>\n",
       "      <td>2</td>\n",
       "      <td>1</td>\n",
       "      <td>50.0</td>\n",
       "      <td>0</td>\n",
       "    </tr>\n",
       "    <tr>\n",
       "      <th>406568</th>\n",
       "      <td>40.0</td>\n",
       "      <td>0.000000</td>\n",
       "      <td>0</td>\n",
       "      <td>0.0</td>\n",
       "      <td>0.000000</td>\n",
       "      <td>0.0</td>\n",
       "      <td>0.0</td>\n",
       "      <td>0.0</td>\n",
       "      <td>2</td>\n",
       "      <td>1</td>\n",
       "      <td>50.0</td>\n",
       "      <td>0</td>\n",
       "    </tr>\n",
       "    <tr>\n",
       "      <th>406569</th>\n",
       "      <td>40.0</td>\n",
       "      <td>0.000000</td>\n",
       "      <td>0</td>\n",
       "      <td>0.0</td>\n",
       "      <td>0.000000</td>\n",
       "      <td>0.0</td>\n",
       "      <td>0.0</td>\n",
       "      <td>0.0</td>\n",
       "      <td>2</td>\n",
       "      <td>1</td>\n",
       "      <td>50.0</td>\n",
       "      <td>0</td>\n",
       "    </tr>\n",
       "    <tr>\n",
       "      <th>406570</th>\n",
       "      <td>40.0</td>\n",
       "      <td>0.000000</td>\n",
       "      <td>0</td>\n",
       "      <td>0.0</td>\n",
       "      <td>0.000000</td>\n",
       "      <td>0.0</td>\n",
       "      <td>0.0</td>\n",
       "      <td>0.0</td>\n",
       "      <td>2</td>\n",
       "      <td>1</td>\n",
       "      <td>50.0</td>\n",
       "      <td>0</td>\n",
       "    </tr>\n",
       "    <tr>\n",
       "      <th>406571</th>\n",
       "      <td>40.0</td>\n",
       "      <td>0.000000</td>\n",
       "      <td>0</td>\n",
       "      <td>0.0</td>\n",
       "      <td>0.000000</td>\n",
       "      <td>0.0</td>\n",
       "      <td>0.0</td>\n",
       "      <td>0.0</td>\n",
       "      <td>2</td>\n",
       "      <td>1</td>\n",
       "      <td>50.0</td>\n",
       "      <td>0</td>\n",
       "    </tr>\n",
       "  </tbody>\n",
       "</table>\n",
       "<p>406572 rows × 12 columns</p>\n",
       "</div>"
      ],
      "text/plain": [
       "        fps_mean   fps_std  fps_lags  rtt_mean    rtt_std  \\\n",
       "0           24.4  0.516398         0      91.1   6.723921   \n",
       "1           28.6  2.065591         0      99.7  15.923777   \n",
       "2           30.0  0.000000         0      98.1  11.798776   \n",
       "3           30.3  0.948683         0      99.4  13.014522   \n",
       "4           29.9  0.316228         0     123.2  62.476307   \n",
       "...          ...       ...       ...       ...        ...   \n",
       "406567      40.0  0.000000         0       0.0   0.000000   \n",
       "406568      40.0  0.000000         0       0.0   0.000000   \n",
       "406569      40.0  0.000000         0       0.0   0.000000   \n",
       "406570      40.0  0.000000         0       0.0   0.000000   \n",
       "406571      40.0  0.000000         0       0.0   0.000000   \n",
       "\n",
       "        dropped_frames_mean  dropped_frames_std  dropped_frames_max  \\\n",
       "0                       0.0                 0.0                 0.0   \n",
       "1                       0.0                 0.0                 0.0   \n",
       "2                       0.0                 0.0                 0.0   \n",
       "3                       0.0                 0.0                 0.0   \n",
       "4                       0.0                 0.0                 0.0   \n",
       "...                     ...                 ...                 ...   \n",
       "406567                  0.0                 0.0                 0.0   \n",
       "406568                  0.0                 0.0                 0.0   \n",
       "406569                  0.0                 0.0                 0.0   \n",
       "406570                  0.0                 0.0                 0.0   \n",
       "406571                  0.0                 0.0                 0.0   \n",
       "\n",
       "        auto_bitrate_state  auto_fec_state  auto_fec_mean  stream_quality  \n",
       "0                        1               1           50.0               0  \n",
       "1                        1               1           50.0               0  \n",
       "2                        1               1           50.0               0  \n",
       "3                        1               1           50.0               0  \n",
       "4                        1               1           50.0               0  \n",
       "...                    ...             ...            ...             ...  \n",
       "406567                   2               1           50.0               0  \n",
       "406568                   2               1           50.0               0  \n",
       "406569                   2               1           50.0               0  \n",
       "406570                   2               1           50.0               0  \n",
       "406571                   2               1           50.0               0  \n",
       "\n",
       "[406572 rows x 12 columns]"
      ]
     },
     "execution_count": 68,
     "metadata": {},
     "output_type": "execute_result"
    }
   ],
   "source": [
    "encoder, df = encode_data(df, cat_cols)\n",
    "df"
   ]
  },
  {
   "cell_type": "code",
   "execution_count": 206,
   "id": "515ab4d6",
   "metadata": {},
   "outputs": [
    {
     "data": {
      "text/plain": [
       "(array([1, 2]), array([1, 2, 3]))"
      ]
     },
     "execution_count": 206,
     "metadata": {},
     "output_type": "execute_result"
    }
   ],
   "source": [
    " df['auto_fec_state'].unique(), df['auto_bitrate_state'].unique(), "
   ]
  },
  {
   "cell_type": "code",
   "execution_count": 207,
   "id": "e3e93658",
   "metadata": {},
   "outputs": [
    {
     "data": {
      "text/plain": [
       "1    299958\n",
       "2     72774\n",
       "3       410\n",
       "Name: auto_bitrate_state, dtype: int64"
      ]
     },
     "execution_count": 207,
     "metadata": {},
     "output_type": "execute_result"
    }
   ],
   "source": [
    "df['auto_bitrate_state'].value_counts()"
   ]
  },
  {
   "cell_type": "code",
   "execution_count": 208,
   "id": "4e4e4d1f",
   "metadata": {},
   "outputs": [
    {
     "data": {
      "text/plain": [
       "1    330578\n",
       "2     42564\n",
       "Name: auto_fec_state, dtype: int64"
      ]
     },
     "execution_count": 208,
     "metadata": {},
     "output_type": "execute_result"
    }
   ],
   "source": [
    "df['auto_fec_state'].value_counts()"
   ]
  },
  {
   "cell_type": "code",
   "execution_count": 209,
   "id": "d8afb243",
   "metadata": {},
   "outputs": [
    {
     "data": {
      "text/plain": [
       "1    330578\n",
       "2     42564\n",
       "Name: auto_fec_state, dtype: int64"
      ]
     },
     "execution_count": 209,
     "metadata": {},
     "output_type": "execute_result"
    }
   ],
   "source": [
    "df['auto_fec_state'].value_counts()"
   ]
  },
  {
   "cell_type": "code",
   "execution_count": 210,
   "id": "b0cad158",
   "metadata": {},
   "outputs": [
    {
     "data": {
      "text/plain": [
       "0    False\n",
       "1    False\n",
       "2    False\n",
       "3    False\n",
       "4    False\n",
       "5     True\n",
       "6     True\n",
       "dtype: bool"
      ]
     },
     "execution_count": 210,
     "metadata": {},
     "output_type": "execute_result"
    }
   ],
   "source": [
    "(pd.Series(['1', np.nan, '3', '4', np.nan, 0, 0]) == 0)"
   ]
  },
  {
   "cell_type": "markdown",
   "id": "158423ea",
   "metadata": {},
   "source": [
    "### EDA"
   ]
  },
  {
   "cell_type": "code",
   "execution_count": 212,
   "id": "40dbd842",
   "metadata": {},
   "outputs": [
    {
     "data": {
      "text/plain": [
       "'Total no. of columns: 12'"
      ]
     },
     "execution_count": 212,
     "metadata": {},
     "output_type": "execute_result"
    }
   ],
   "source": [
    "\"Total no. of columns: %d\" % len(df.columns.tolist())"
   ]
  },
  {
   "cell_type": "code",
   "execution_count": 23,
   "id": "50383200",
   "metadata": {},
   "outputs": [],
   "source": [
    "profile = ProfileReport(df, title=\"Pandas Profiling Report\")"
   ]
  },
  {
   "cell_type": "code",
   "execution_count": 24,
   "id": "17d81f31",
   "metadata": {},
   "outputs": [
    {
     "data": {
      "application/vnd.jupyter.widget-view+json": {
       "model_id": "ecd0208b6df2482f8f90b6b88bf85af3",
       "version_major": 2,
       "version_minor": 0
      },
      "text/plain": [
       "Summarize dataset:   0%|          | 0/5 [00:00<?, ?it/s]"
      ]
     },
     "metadata": {},
     "output_type": "display_data"
    },
    {
     "name": "stderr",
     "output_type": "stream",
     "text": [
      "/media/symlink_part/.virtualenvs/ml_assg1/lib/python3.8/site-packages/scipy/stats/_stats_py.py:5215: RuntimeWarning: overflow encountered in long_scalars\n",
      "  (2 * xtie * ytie) / m + x0 * y0 / (9 * m * (size - 2)))\n"
     ]
    },
    {
     "data": {
      "application/vnd.jupyter.widget-view+json": {
       "model_id": "d104dab4a85649f48857ed4617a10774",
       "version_major": 2,
       "version_minor": 0
      },
      "text/plain": [
       "Generate report structure:   0%|          | 0/1 [00:00<?, ?it/s]"
      ]
     },
     "metadata": {},
     "output_type": "display_data"
    },
    {
     "data": {
      "application/vnd.jupyter.widget-view+json": {
       "model_id": "f8ee45ab764d4d9fb8d4911a549038cc",
       "version_major": 2,
       "version_minor": 0
      },
      "text/plain": [
       "Render HTML:   0%|          | 0/1 [00:00<?, ?it/s]"
      ]
     },
     "metadata": {},
     "output_type": "display_data"
    },
    {
     "data": {
      "application/vnd.jupyter.widget-view+json": {
       "model_id": "6a9c6fcdfba34bb6ac9899063bde8f5f",
       "version_major": 2,
       "version_minor": 0
      },
      "text/plain": [
       "Export report to file:   0%|          | 0/1 [00:00<?, ?it/s]"
      ]
     },
     "metadata": {},
     "output_type": "display_data"
    }
   ],
   "source": [
    "profile.to_file(base + \"eda_classification.html\")"
   ]
  },
  {
   "cell_type": "code",
   "execution_count": 213,
   "id": "435e2dca",
   "metadata": {
    "scrolled": true
   },
   "outputs": [
    {
     "data": {
      "text/html": [
       "<div>\n",
       "<style scoped>\n",
       "    .dataframe tbody tr th:only-of-type {\n",
       "        vertical-align: middle;\n",
       "    }\n",
       "\n",
       "    .dataframe tbody tr th {\n",
       "        vertical-align: top;\n",
       "    }\n",
       "\n",
       "    .dataframe thead th {\n",
       "        text-align: right;\n",
       "    }\n",
       "</style>\n",
       "<table border=\"1\" class=\"dataframe\">\n",
       "  <thead>\n",
       "    <tr style=\"text-align: right;\">\n",
       "      <th></th>\n",
       "      <th>fps_mean</th>\n",
       "      <th>fps_std</th>\n",
       "      <th>fps_lags</th>\n",
       "      <th>rtt_mean</th>\n",
       "      <th>rtt_std</th>\n",
       "      <th>dropped_frames_mean</th>\n",
       "      <th>dropped_frames_std</th>\n",
       "      <th>dropped_frames_max</th>\n",
       "      <th>auto_bitrate_state</th>\n",
       "      <th>auto_fec_state</th>\n",
       "      <th>auto_fec_mean</th>\n",
       "      <th>stream_quality</th>\n",
       "    </tr>\n",
       "  </thead>\n",
       "  <tbody>\n",
       "    <tr>\n",
       "      <th>count</th>\n",
       "      <td>373142.000000</td>\n",
       "      <td>373142.000000</td>\n",
       "      <td>373142.000000</td>\n",
       "      <td>373142.000000</td>\n",
       "      <td>373142.000000</td>\n",
       "      <td>3.731420e+05</td>\n",
       "      <td>3.731420e+05</td>\n",
       "      <td>3.731420e+05</td>\n",
       "      <td>373142.000000</td>\n",
       "      <td>373142.000000</td>\n",
       "      <td>373142.000000</td>\n",
       "      <td>373142.000000</td>\n",
       "    </tr>\n",
       "    <tr>\n",
       "      <th>mean</th>\n",
       "      <td>35.069812</td>\n",
       "      <td>2.489203</td>\n",
       "      <td>0.097370</td>\n",
       "      <td>57.281921</td>\n",
       "      <td>21.229666</td>\n",
       "      <td>3.462350e+05</td>\n",
       "      <td>1.491617e+05</td>\n",
       "      <td>5.222737e+05</td>\n",
       "      <td>1.197228</td>\n",
       "      <td>1.114069</td>\n",
       "      <td>51.952779</td>\n",
       "      <td>0.063927</td>\n",
       "    </tr>\n",
       "    <tr>\n",
       "      <th>std</th>\n",
       "      <td>11.392012</td>\n",
       "      <td>3.805238</td>\n",
       "      <td>0.567563</td>\n",
       "      <td>135.688714</td>\n",
       "      <td>163.110117</td>\n",
       "      <td>2.030192e+07</td>\n",
       "      <td>9.614595e+06</td>\n",
       "      <td>2.749080e+07</td>\n",
       "      <td>0.400658</td>\n",
       "      <td>0.317896</td>\n",
       "      <td>35.506799</td>\n",
       "      <td>0.244624</td>\n",
       "    </tr>\n",
       "    <tr>\n",
       "      <th>min</th>\n",
       "      <td>0.000000</td>\n",
       "      <td>0.000000</td>\n",
       "      <td>0.000000</td>\n",
       "      <td>0.000000</td>\n",
       "      <td>0.000000</td>\n",
       "      <td>0.000000e+00</td>\n",
       "      <td>0.000000e+00</td>\n",
       "      <td>0.000000e+00</td>\n",
       "      <td>1.000000</td>\n",
       "      <td>1.000000</td>\n",
       "      <td>0.000000</td>\n",
       "      <td>0.000000</td>\n",
       "    </tr>\n",
       "    <tr>\n",
       "      <th>25%</th>\n",
       "      <td>28.200000</td>\n",
       "      <td>0.421637</td>\n",
       "      <td>0.000000</td>\n",
       "      <td>16.000000</td>\n",
       "      <td>0.788811</td>\n",
       "      <td>0.000000e+00</td>\n",
       "      <td>0.000000e+00</td>\n",
       "      <td>0.000000e+00</td>\n",
       "      <td>1.000000</td>\n",
       "      <td>1.000000</td>\n",
       "      <td>50.000000</td>\n",
       "      <td>0.000000</td>\n",
       "    </tr>\n",
       "    <tr>\n",
       "      <th>50%</th>\n",
       "      <td>30.000000</td>\n",
       "      <td>1.229273</td>\n",
       "      <td>0.000000</td>\n",
       "      <td>34.000000</td>\n",
       "      <td>1.712698</td>\n",
       "      <td>0.000000e+00</td>\n",
       "      <td>0.000000e+00</td>\n",
       "      <td>0.000000e+00</td>\n",
       "      <td>1.000000</td>\n",
       "      <td>1.000000</td>\n",
       "      <td>50.000000</td>\n",
       "      <td>0.000000</td>\n",
       "    </tr>\n",
       "    <tr>\n",
       "      <th>75%</th>\n",
       "      <td>44.100000</td>\n",
       "      <td>2.836273</td>\n",
       "      <td>0.000000</td>\n",
       "      <td>59.200000</td>\n",
       "      <td>6.196773</td>\n",
       "      <td>0.000000e+00</td>\n",
       "      <td>0.000000e+00</td>\n",
       "      <td>0.000000e+00</td>\n",
       "      <td>1.000000</td>\n",
       "      <td>1.000000</td>\n",
       "      <td>50.000000</td>\n",
       "      <td>0.000000</td>\n",
       "    </tr>\n",
       "    <tr>\n",
       "      <th>max</th>\n",
       "      <td>127.100000</td>\n",
       "      <td>312.540842</td>\n",
       "      <td>10.000000</td>\n",
       "      <td>12898.400000</td>\n",
       "      <td>40721.933293</td>\n",
       "      <td>2.097289e+09</td>\n",
       "      <td>9.963751e+08</td>\n",
       "      <td>2.097289e+09</td>\n",
       "      <td>3.000000</td>\n",
       "      <td>2.000000</td>\n",
       "      <td>250.000000</td>\n",
       "      <td>1.000000</td>\n",
       "    </tr>\n",
       "  </tbody>\n",
       "</table>\n",
       "</div>"
      ],
      "text/plain": [
       "            fps_mean        fps_std       fps_lags       rtt_mean  \\\n",
       "count  373142.000000  373142.000000  373142.000000  373142.000000   \n",
       "mean       35.069812       2.489203       0.097370      57.281921   \n",
       "std        11.392012       3.805238       0.567563     135.688714   \n",
       "min         0.000000       0.000000       0.000000       0.000000   \n",
       "25%        28.200000       0.421637       0.000000      16.000000   \n",
       "50%        30.000000       1.229273       0.000000      34.000000   \n",
       "75%        44.100000       2.836273       0.000000      59.200000   \n",
       "max       127.100000     312.540842      10.000000   12898.400000   \n",
       "\n",
       "             rtt_std  dropped_frames_mean  dropped_frames_std  \\\n",
       "count  373142.000000         3.731420e+05        3.731420e+05   \n",
       "mean       21.229666         3.462350e+05        1.491617e+05   \n",
       "std       163.110117         2.030192e+07        9.614595e+06   \n",
       "min         0.000000         0.000000e+00        0.000000e+00   \n",
       "25%         0.788811         0.000000e+00        0.000000e+00   \n",
       "50%         1.712698         0.000000e+00        0.000000e+00   \n",
       "75%         6.196773         0.000000e+00        0.000000e+00   \n",
       "max     40721.933293         2.097289e+09        9.963751e+08   \n",
       "\n",
       "       dropped_frames_max  auto_bitrate_state  auto_fec_state  auto_fec_mean  \\\n",
       "count        3.731420e+05       373142.000000   373142.000000  373142.000000   \n",
       "mean         5.222737e+05            1.197228        1.114069      51.952779   \n",
       "std          2.749080e+07            0.400658        0.317896      35.506799   \n",
       "min          0.000000e+00            1.000000        1.000000       0.000000   \n",
       "25%          0.000000e+00            1.000000        1.000000      50.000000   \n",
       "50%          0.000000e+00            1.000000        1.000000      50.000000   \n",
       "75%          0.000000e+00            1.000000        1.000000      50.000000   \n",
       "max          2.097289e+09            3.000000        2.000000     250.000000   \n",
       "\n",
       "       stream_quality  \n",
       "count   373142.000000  \n",
       "mean         0.063927  \n",
       "std          0.244624  \n",
       "min          0.000000  \n",
       "25%          0.000000  \n",
       "50%          0.000000  \n",
       "75%          0.000000  \n",
       "max          1.000000  "
      ]
     },
     "execution_count": 213,
     "metadata": {},
     "output_type": "execute_result"
    }
   ],
   "source": [
    "df.describe()"
   ]
  },
  {
   "cell_type": "code",
   "execution_count": 214,
   "id": "ca714e1a",
   "metadata": {},
   "outputs": [],
   "source": [
    "# profile.to_notebook_iframe()"
   ]
  },
  {
   "cell_type": "code",
   "execution_count": 215,
   "id": "23410c23",
   "metadata": {},
   "outputs": [],
   "source": [
    "# !xdg-open .*/-0"
   ]
  },
  {
   "cell_type": "markdown",
   "id": "c494a171",
   "metadata": {},
   "source": [
    "### Selecting subset of data based on pandas_profiling Report"
   ]
  },
  {
   "cell_type": "code",
   "execution_count": 216,
   "id": "344d6f08",
   "metadata": {},
   "outputs": [],
   "source": [
    "# dropped_frames_mean/std/max\n",
    "# rtt_mean/std     (rtt_mean is better as it has less missing vals )   5 cols\n",
    "# fps_mean/std     (fps_mean is better as it has less missing vals)\n",
    "# fps_lags   (corr with dropped_frames_mean/std/max)   [Ignore - too many missing vals]\n",
    "# auto_fec_state (corr with auto_fec_mean)  [Wold prefer `auto_fec_state`]\n",
    "# auto_bitrate_state  (no corr with anything - Good to use)\n",
    "\n",
    "# stream_quality  (target variable)"
   ]
  },
  {
   "cell_type": "code",
   "execution_count": 14,
   "id": "fbcb1d86",
   "metadata": {},
   "outputs": [],
   "source": [
    "selected_cols = ['dropped_frames_mean', 'rtt_mean', 'fps_mean', 'auto_fec_state', 'auto_bitrate_state', 'stream_quality']"
   ]
  },
  {
   "cell_type": "code",
   "execution_count": 17,
   "id": "e92e37ed",
   "metadata": {},
   "outputs": [
    {
     "name": "stdout",
     "output_type": "stream",
     "text": [
      "dropped\\_frames\\_mean, rtt\\_mean, fps\\_mean, auto\\_fec\\_state, auto\\_bitrate\\_state, stream\\_quality\n"
     ]
    }
   ],
   "source": [
    "print(', '.join(list(map(lambda x: x.replace('_', '\\_'), selected_cols))))"
   ]
  },
  {
   "cell_type": "code",
   "execution_count": 218,
   "id": "46e98992",
   "metadata": {},
   "outputs": [
    {
     "data": {
      "text/plain": [
       "6"
      ]
     },
     "execution_count": 218,
     "metadata": {},
     "output_type": "execute_result"
    }
   ],
   "source": [
    "len(selected_cols)"
   ]
  },
  {
   "cell_type": "code",
   "execution_count": 219,
   "id": "0f66f748",
   "metadata": {},
   "outputs": [
    {
     "data": {
      "text/html": [
       "<div>\n",
       "<style scoped>\n",
       "    .dataframe tbody tr th:only-of-type {\n",
       "        vertical-align: middle;\n",
       "    }\n",
       "\n",
       "    .dataframe tbody tr th {\n",
       "        vertical-align: top;\n",
       "    }\n",
       "\n",
       "    .dataframe thead th {\n",
       "        text-align: right;\n",
       "    }\n",
       "</style>\n",
       "<table border=\"1\" class=\"dataframe\">\n",
       "  <thead>\n",
       "    <tr style=\"text-align: right;\">\n",
       "      <th></th>\n",
       "      <th>fps_mean</th>\n",
       "      <th>fps_std</th>\n",
       "      <th>fps_lags</th>\n",
       "      <th>rtt_mean</th>\n",
       "      <th>rtt_std</th>\n",
       "      <th>dropped_frames_mean</th>\n",
       "      <th>dropped_frames_std</th>\n",
       "      <th>dropped_frames_max</th>\n",
       "      <th>auto_bitrate_state</th>\n",
       "      <th>auto_fec_state</th>\n",
       "      <th>auto_fec_mean</th>\n",
       "      <th>stream_quality</th>\n",
       "    </tr>\n",
       "  </thead>\n",
       "  <tbody>\n",
       "    <tr>\n",
       "      <th>0</th>\n",
       "      <td>24.4</td>\n",
       "      <td>0.516398</td>\n",
       "      <td>0</td>\n",
       "      <td>91.1</td>\n",
       "      <td>6.723921</td>\n",
       "      <td>0.0</td>\n",
       "      <td>0.000000</td>\n",
       "      <td>0.0</td>\n",
       "      <td>1</td>\n",
       "      <td>1</td>\n",
       "      <td>50.0</td>\n",
       "      <td>0</td>\n",
       "    </tr>\n",
       "    <tr>\n",
       "      <th>1</th>\n",
       "      <td>28.6</td>\n",
       "      <td>2.065591</td>\n",
       "      <td>0</td>\n",
       "      <td>99.7</td>\n",
       "      <td>15.923777</td>\n",
       "      <td>0.0</td>\n",
       "      <td>0.000000</td>\n",
       "      <td>0.0</td>\n",
       "      <td>1</td>\n",
       "      <td>1</td>\n",
       "      <td>50.0</td>\n",
       "      <td>0</td>\n",
       "    </tr>\n",
       "    <tr>\n",
       "      <th>2</th>\n",
       "      <td>30.0</td>\n",
       "      <td>0.000000</td>\n",
       "      <td>0</td>\n",
       "      <td>98.1</td>\n",
       "      <td>11.798776</td>\n",
       "      <td>0.0</td>\n",
       "      <td>0.000000</td>\n",
       "      <td>0.0</td>\n",
       "      <td>1</td>\n",
       "      <td>1</td>\n",
       "      <td>50.0</td>\n",
       "      <td>0</td>\n",
       "    </tr>\n",
       "    <tr>\n",
       "      <th>3</th>\n",
       "      <td>30.3</td>\n",
       "      <td>0.948683</td>\n",
       "      <td>0</td>\n",
       "      <td>99.4</td>\n",
       "      <td>13.014522</td>\n",
       "      <td>0.0</td>\n",
       "      <td>0.000000</td>\n",
       "      <td>0.0</td>\n",
       "      <td>1</td>\n",
       "      <td>1</td>\n",
       "      <td>50.0</td>\n",
       "      <td>0</td>\n",
       "    </tr>\n",
       "    <tr>\n",
       "      <th>4</th>\n",
       "      <td>29.9</td>\n",
       "      <td>0.316228</td>\n",
       "      <td>0</td>\n",
       "      <td>123.2</td>\n",
       "      <td>62.476307</td>\n",
       "      <td>0.0</td>\n",
       "      <td>0.000000</td>\n",
       "      <td>0.0</td>\n",
       "      <td>1</td>\n",
       "      <td>1</td>\n",
       "      <td>50.0</td>\n",
       "      <td>0</td>\n",
       "    </tr>\n",
       "    <tr>\n",
       "      <th>...</th>\n",
       "      <td>...</td>\n",
       "      <td>...</td>\n",
       "      <td>...</td>\n",
       "      <td>...</td>\n",
       "      <td>...</td>\n",
       "      <td>...</td>\n",
       "      <td>...</td>\n",
       "      <td>...</td>\n",
       "      <td>...</td>\n",
       "      <td>...</td>\n",
       "      <td>...</td>\n",
       "      <td>...</td>\n",
       "    </tr>\n",
       "    <tr>\n",
       "      <th>373137</th>\n",
       "      <td>48.3</td>\n",
       "      <td>12.302213</td>\n",
       "      <td>0</td>\n",
       "      <td>119.3</td>\n",
       "      <td>0.674949</td>\n",
       "      <td>8.5</td>\n",
       "      <td>26.879360</td>\n",
       "      <td>85.0</td>\n",
       "      <td>2</td>\n",
       "      <td>1</td>\n",
       "      <td>50.0</td>\n",
       "      <td>0</td>\n",
       "    </tr>\n",
       "    <tr>\n",
       "      <th>373138</th>\n",
       "      <td>48.7</td>\n",
       "      <td>8.957306</td>\n",
       "      <td>0</td>\n",
       "      <td>119.8</td>\n",
       "      <td>0.788811</td>\n",
       "      <td>6.8</td>\n",
       "      <td>21.503488</td>\n",
       "      <td>68.0</td>\n",
       "      <td>2</td>\n",
       "      <td>1</td>\n",
       "      <td>50.0</td>\n",
       "      <td>0</td>\n",
       "    </tr>\n",
       "    <tr>\n",
       "      <th>373139</th>\n",
       "      <td>54.2</td>\n",
       "      <td>7.099296</td>\n",
       "      <td>0</td>\n",
       "      <td>119.4</td>\n",
       "      <td>0.516398</td>\n",
       "      <td>0.0</td>\n",
       "      <td>0.000000</td>\n",
       "      <td>0.0</td>\n",
       "      <td>2</td>\n",
       "      <td>1</td>\n",
       "      <td>50.0</td>\n",
       "      <td>0</td>\n",
       "    </tr>\n",
       "    <tr>\n",
       "      <th>373140</th>\n",
       "      <td>49.5</td>\n",
       "      <td>7.575545</td>\n",
       "      <td>0</td>\n",
       "      <td>120.0</td>\n",
       "      <td>0.816497</td>\n",
       "      <td>0.0</td>\n",
       "      <td>0.000000</td>\n",
       "      <td>0.0</td>\n",
       "      <td>2</td>\n",
       "      <td>1</td>\n",
       "      <td>50.0</td>\n",
       "      <td>0</td>\n",
       "    </tr>\n",
       "    <tr>\n",
       "      <th>373141</th>\n",
       "      <td>44.9</td>\n",
       "      <td>7.723701</td>\n",
       "      <td>0</td>\n",
       "      <td>107.4</td>\n",
       "      <td>37.739458</td>\n",
       "      <td>0.0</td>\n",
       "      <td>0.000000</td>\n",
       "      <td>0.0</td>\n",
       "      <td>2</td>\n",
       "      <td>1</td>\n",
       "      <td>50.0</td>\n",
       "      <td>0</td>\n",
       "    </tr>\n",
       "  </tbody>\n",
       "</table>\n",
       "<p>373142 rows × 12 columns</p>\n",
       "</div>"
      ],
      "text/plain": [
       "        fps_mean    fps_std  fps_lags  rtt_mean    rtt_std  \\\n",
       "0           24.4   0.516398         0      91.1   6.723921   \n",
       "1           28.6   2.065591         0      99.7  15.923777   \n",
       "2           30.0   0.000000         0      98.1  11.798776   \n",
       "3           30.3   0.948683         0      99.4  13.014522   \n",
       "4           29.9   0.316228         0     123.2  62.476307   \n",
       "...          ...        ...       ...       ...        ...   \n",
       "373137      48.3  12.302213         0     119.3   0.674949   \n",
       "373138      48.7   8.957306         0     119.8   0.788811   \n",
       "373139      54.2   7.099296         0     119.4   0.516398   \n",
       "373140      49.5   7.575545         0     120.0   0.816497   \n",
       "373141      44.9   7.723701         0     107.4  37.739458   \n",
       "\n",
       "        dropped_frames_mean  dropped_frames_std  dropped_frames_max  \\\n",
       "0                       0.0            0.000000                 0.0   \n",
       "1                       0.0            0.000000                 0.0   \n",
       "2                       0.0            0.000000                 0.0   \n",
       "3                       0.0            0.000000                 0.0   \n",
       "4                       0.0            0.000000                 0.0   \n",
       "...                     ...                 ...                 ...   \n",
       "373137                  8.5           26.879360                85.0   \n",
       "373138                  6.8           21.503488                68.0   \n",
       "373139                  0.0            0.000000                 0.0   \n",
       "373140                  0.0            0.000000                 0.0   \n",
       "373141                  0.0            0.000000                 0.0   \n",
       "\n",
       "        auto_bitrate_state  auto_fec_state  auto_fec_mean  stream_quality  \n",
       "0                        1               1           50.0               0  \n",
       "1                        1               1           50.0               0  \n",
       "2                        1               1           50.0               0  \n",
       "3                        1               1           50.0               0  \n",
       "4                        1               1           50.0               0  \n",
       "...                    ...             ...            ...             ...  \n",
       "373137                   2               1           50.0               0  \n",
       "373138                   2               1           50.0               0  \n",
       "373139                   2               1           50.0               0  \n",
       "373140                   2               1           50.0               0  \n",
       "373141                   2               1           50.0               0  \n",
       "\n",
       "[373142 rows x 12 columns]"
      ]
     },
     "execution_count": 219,
     "metadata": {},
     "output_type": "execute_result"
    }
   ],
   "source": [
    "df"
   ]
  },
  {
   "cell_type": "code",
   "execution_count": 69,
   "id": "303854d7",
   "metadata": {},
   "outputs": [
    {
     "data": {
      "text/html": [
       "<div>\n",
       "<style scoped>\n",
       "    .dataframe tbody tr th:only-of-type {\n",
       "        vertical-align: middle;\n",
       "    }\n",
       "\n",
       "    .dataframe tbody tr th {\n",
       "        vertical-align: top;\n",
       "    }\n",
       "\n",
       "    .dataframe thead th {\n",
       "        text-align: right;\n",
       "    }\n",
       "</style>\n",
       "<table border=\"1\" class=\"dataframe\">\n",
       "  <thead>\n",
       "    <tr style=\"text-align: right;\">\n",
       "      <th></th>\n",
       "      <th>dropped_frames_mean</th>\n",
       "      <th>rtt_mean</th>\n",
       "      <th>fps_mean</th>\n",
       "      <th>auto_fec_state</th>\n",
       "      <th>auto_bitrate_state</th>\n",
       "      <th>stream_quality</th>\n",
       "    </tr>\n",
       "  </thead>\n",
       "  <tbody>\n",
       "    <tr>\n",
       "      <th>0</th>\n",
       "      <td>0.0</td>\n",
       "      <td>91.1</td>\n",
       "      <td>24.4</td>\n",
       "      <td>1</td>\n",
       "      <td>1</td>\n",
       "      <td>0</td>\n",
       "    </tr>\n",
       "    <tr>\n",
       "      <th>1</th>\n",
       "      <td>0.0</td>\n",
       "      <td>99.7</td>\n",
       "      <td>28.6</td>\n",
       "      <td>1</td>\n",
       "      <td>1</td>\n",
       "      <td>0</td>\n",
       "    </tr>\n",
       "    <tr>\n",
       "      <th>2</th>\n",
       "      <td>0.0</td>\n",
       "      <td>98.1</td>\n",
       "      <td>30.0</td>\n",
       "      <td>1</td>\n",
       "      <td>1</td>\n",
       "      <td>0</td>\n",
       "    </tr>\n",
       "    <tr>\n",
       "      <th>3</th>\n",
       "      <td>0.0</td>\n",
       "      <td>99.4</td>\n",
       "      <td>30.3</td>\n",
       "      <td>1</td>\n",
       "      <td>1</td>\n",
       "      <td>0</td>\n",
       "    </tr>\n",
       "    <tr>\n",
       "      <th>4</th>\n",
       "      <td>0.0</td>\n",
       "      <td>123.2</td>\n",
       "      <td>29.9</td>\n",
       "      <td>1</td>\n",
       "      <td>1</td>\n",
       "      <td>0</td>\n",
       "    </tr>\n",
       "    <tr>\n",
       "      <th>...</th>\n",
       "      <td>...</td>\n",
       "      <td>...</td>\n",
       "      <td>...</td>\n",
       "      <td>...</td>\n",
       "      <td>...</td>\n",
       "      <td>...</td>\n",
       "    </tr>\n",
       "    <tr>\n",
       "      <th>406567</th>\n",
       "      <td>0.0</td>\n",
       "      <td>0.0</td>\n",
       "      <td>40.0</td>\n",
       "      <td>1</td>\n",
       "      <td>2</td>\n",
       "      <td>0</td>\n",
       "    </tr>\n",
       "    <tr>\n",
       "      <th>406568</th>\n",
       "      <td>0.0</td>\n",
       "      <td>0.0</td>\n",
       "      <td>40.0</td>\n",
       "      <td>1</td>\n",
       "      <td>2</td>\n",
       "      <td>0</td>\n",
       "    </tr>\n",
       "    <tr>\n",
       "      <th>406569</th>\n",
       "      <td>0.0</td>\n",
       "      <td>0.0</td>\n",
       "      <td>40.0</td>\n",
       "      <td>1</td>\n",
       "      <td>2</td>\n",
       "      <td>0</td>\n",
       "    </tr>\n",
       "    <tr>\n",
       "      <th>406570</th>\n",
       "      <td>0.0</td>\n",
       "      <td>0.0</td>\n",
       "      <td>40.0</td>\n",
       "      <td>1</td>\n",
       "      <td>2</td>\n",
       "      <td>0</td>\n",
       "    </tr>\n",
       "    <tr>\n",
       "      <th>406571</th>\n",
       "      <td>0.0</td>\n",
       "      <td>0.0</td>\n",
       "      <td>40.0</td>\n",
       "      <td>1</td>\n",
       "      <td>2</td>\n",
       "      <td>0</td>\n",
       "    </tr>\n",
       "  </tbody>\n",
       "</table>\n",
       "<p>406572 rows × 6 columns</p>\n",
       "</div>"
      ],
      "text/plain": [
       "        dropped_frames_mean  rtt_mean  fps_mean  auto_fec_state  \\\n",
       "0                       0.0      91.1      24.4               1   \n",
       "1                       0.0      99.7      28.6               1   \n",
       "2                       0.0      98.1      30.0               1   \n",
       "3                       0.0      99.4      30.3               1   \n",
       "4                       0.0     123.2      29.9               1   \n",
       "...                     ...       ...       ...             ...   \n",
       "406567                  0.0       0.0      40.0               1   \n",
       "406568                  0.0       0.0      40.0               1   \n",
       "406569                  0.0       0.0      40.0               1   \n",
       "406570                  0.0       0.0      40.0               1   \n",
       "406571                  0.0       0.0      40.0               1   \n",
       "\n",
       "        auto_bitrate_state  stream_quality  \n",
       "0                        1               0  \n",
       "1                        1               0  \n",
       "2                        1               0  \n",
       "3                        1               0  \n",
       "4                        1               0  \n",
       "...                    ...             ...  \n",
       "406567                   2               0  \n",
       "406568                   2               0  \n",
       "406569                   2               0  \n",
       "406570                   2               0  \n",
       "406571                   2               0  \n",
       "\n",
       "[406572 rows x 6 columns]"
      ]
     },
     "execution_count": 69,
     "metadata": {},
     "output_type": "execute_result"
    }
   ],
   "source": [
    "df_selected = df[selected_cols]\n",
    "df_selected"
   ]
  },
  {
   "cell_type": "markdown",
   "id": "ae4c155b",
   "metadata": {},
   "source": [
    "### Plot to see imbalance"
   ]
  },
  {
   "cell_type": "code",
   "execution_count": 51,
   "id": "327489bd",
   "metadata": {},
   "outputs": [
    {
     "data": {
      "image/png": "[encoded data removed]",
      "text/plain": [
       "<Figure size 640x480 with 1 Axes>"
      ]
     },
     "metadata": {},
     "output_type": "display_data"
    }
   ],
   "source": [
    "%matplotlib inline\n",
    "\n",
    "top_5_stream = df_selected['stream_quality'][:50000].values\n",
    "\n",
    "#  Create bars with different colors\n",
    "plt.bar(['0', '1'],  df_selected['stream_quality'][:50000].value_counts(), width=.2, color=['red', 'green'])\n",
    "\n",
    "# Create names on the x-axis\n",
    "plt.ylabel('Frequency')\n",
    "plt.xlabel('Classes')\n",
    "plt.title('Class frequency')\n",
    "# Show graph\n",
    "plt.show()"
   ]
  },
  {
   "cell_type": "markdown",
   "id": "c0f80a22",
   "metadata": {},
   "source": [
    "### Impute Dataset"
   ]
  },
  {
   "cell_type": "code",
   "execution_count": 52,
   "id": "ce2cde27",
   "metadata": {},
   "outputs": [],
   "source": [
    "# from sklearn.impute import SimpleImputer\n",
    "# import numpy as np\n",
    "\n",
    "# #TODO: Complete a function that returns number of empty cells \n",
    "# def count_nans(df):\n",
    "#     # 1 or 2 lines.\n",
    "#     return np.sum(np.sum(np.isnan(df))) #np.count_nonzero(~np.isnan(df))\n",
    "\n",
    "# # Print number of empty cells (1 line)\n",
    "# print(\"#Empty missing data cells in the dataset = \", count_nans(df_selected))\n"
   ]
  },
  {
   "cell_type": "code",
   "execution_count": 53,
   "id": "409d6d50",
   "metadata": {},
   "outputs": [],
   "source": [
    "# # Write your code here (4 lines):\n",
    "# # create the imputer object.\n",
    "# # fit the imputer.\n",
    "# imputer = SimpleImputer(strategy='most_frequent')\n",
    "# imputer.fit(encoded_data)\n",
    "# imputed_data = imputer.transform(encoded_data)\n",
    "\n",
    "# print(\"After Imputing:\")\n",
    "# # Print number of empty cells in the data(1 line)\n",
    "# print(\"#Empty cells in dataset =\", count_nans(imputed_data))"
   ]
  },
  {
   "cell_type": "markdown",
   "id": "c8fce2a9",
   "metadata": {},
   "source": [
    "### Scale Data"
   ]
  },
  {
   "cell_type": "code",
   "execution_count": 70,
   "id": "6d270f3e",
   "metadata": {},
   "outputs": [
    {
     "data": {
      "text/html": [
       "<div>\n",
       "<style scoped>\n",
       "    .dataframe tbody tr th:only-of-type {\n",
       "        vertical-align: middle;\n",
       "    }\n",
       "\n",
       "    .dataframe tbody tr th {\n",
       "        vertical-align: top;\n",
       "    }\n",
       "\n",
       "    .dataframe thead th {\n",
       "        text-align: right;\n",
       "    }\n",
       "</style>\n",
       "<table border=\"1\" class=\"dataframe\">\n",
       "  <thead>\n",
       "    <tr style=\"text-align: right;\">\n",
       "      <th></th>\n",
       "      <th>dropped_frames_mean</th>\n",
       "      <th>rtt_mean</th>\n",
       "      <th>fps_mean</th>\n",
       "      <th>auto_fec_state</th>\n",
       "      <th>auto_bitrate_state</th>\n",
       "      <th>stream_quality</th>\n",
       "    </tr>\n",
       "  </thead>\n",
       "  <tbody>\n",
       "    <tr>\n",
       "      <th>0</th>\n",
       "      <td>0.0</td>\n",
       "      <td>91.1</td>\n",
       "      <td>24.4</td>\n",
       "      <td>1</td>\n",
       "      <td>1</td>\n",
       "      <td>0</td>\n",
       "    </tr>\n",
       "    <tr>\n",
       "      <th>1</th>\n",
       "      <td>0.0</td>\n",
       "      <td>99.7</td>\n",
       "      <td>28.6</td>\n",
       "      <td>1</td>\n",
       "      <td>1</td>\n",
       "      <td>0</td>\n",
       "    </tr>\n",
       "    <tr>\n",
       "      <th>2</th>\n",
       "      <td>0.0</td>\n",
       "      <td>98.1</td>\n",
       "      <td>30.0</td>\n",
       "      <td>1</td>\n",
       "      <td>1</td>\n",
       "      <td>0</td>\n",
       "    </tr>\n",
       "    <tr>\n",
       "      <th>3</th>\n",
       "      <td>0.0</td>\n",
       "      <td>99.4</td>\n",
       "      <td>30.3</td>\n",
       "      <td>1</td>\n",
       "      <td>1</td>\n",
       "      <td>0</td>\n",
       "    </tr>\n",
       "    <tr>\n",
       "      <th>4</th>\n",
       "      <td>0.0</td>\n",
       "      <td>123.2</td>\n",
       "      <td>29.9</td>\n",
       "      <td>1</td>\n",
       "      <td>1</td>\n",
       "      <td>0</td>\n",
       "    </tr>\n",
       "    <tr>\n",
       "      <th>...</th>\n",
       "      <td>...</td>\n",
       "      <td>...</td>\n",
       "      <td>...</td>\n",
       "      <td>...</td>\n",
       "      <td>...</td>\n",
       "      <td>...</td>\n",
       "    </tr>\n",
       "    <tr>\n",
       "      <th>406567</th>\n",
       "      <td>0.0</td>\n",
       "      <td>0.0</td>\n",
       "      <td>40.0</td>\n",
       "      <td>1</td>\n",
       "      <td>2</td>\n",
       "      <td>0</td>\n",
       "    </tr>\n",
       "    <tr>\n",
       "      <th>406568</th>\n",
       "      <td>0.0</td>\n",
       "      <td>0.0</td>\n",
       "      <td>40.0</td>\n",
       "      <td>1</td>\n",
       "      <td>2</td>\n",
       "      <td>0</td>\n",
       "    </tr>\n",
       "    <tr>\n",
       "      <th>406569</th>\n",
       "      <td>0.0</td>\n",
       "      <td>0.0</td>\n",
       "      <td>40.0</td>\n",
       "      <td>1</td>\n",
       "      <td>2</td>\n",
       "      <td>0</td>\n",
       "    </tr>\n",
       "    <tr>\n",
       "      <th>406570</th>\n",
       "      <td>0.0</td>\n",
       "      <td>0.0</td>\n",
       "      <td>40.0</td>\n",
       "      <td>1</td>\n",
       "      <td>2</td>\n",
       "      <td>0</td>\n",
       "    </tr>\n",
       "    <tr>\n",
       "      <th>406571</th>\n",
       "      <td>0.0</td>\n",
       "      <td>0.0</td>\n",
       "      <td>40.0</td>\n",
       "      <td>1</td>\n",
       "      <td>2</td>\n",
       "      <td>0</td>\n",
       "    </tr>\n",
       "  </tbody>\n",
       "</table>\n",
       "<p>406572 rows × 6 columns</p>\n",
       "</div>"
      ],
      "text/plain": [
       "        dropped_frames_mean  rtt_mean  fps_mean  auto_fec_state  \\\n",
       "0                       0.0      91.1      24.4               1   \n",
       "1                       0.0      99.7      28.6               1   \n",
       "2                       0.0      98.1      30.0               1   \n",
       "3                       0.0      99.4      30.3               1   \n",
       "4                       0.0     123.2      29.9               1   \n",
       "...                     ...       ...       ...             ...   \n",
       "406567                  0.0       0.0      40.0               1   \n",
       "406568                  0.0       0.0      40.0               1   \n",
       "406569                  0.0       0.0      40.0               1   \n",
       "406570                  0.0       0.0      40.0               1   \n",
       "406571                  0.0       0.0      40.0               1   \n",
       "\n",
       "        auto_bitrate_state  stream_quality  \n",
       "0                        1               0  \n",
       "1                        1               0  \n",
       "2                        1               0  \n",
       "3                        1               0  \n",
       "4                        1               0  \n",
       "...                    ...             ...  \n",
       "406567                   2               0  \n",
       "406568                   2               0  \n",
       "406569                   2               0  \n",
       "406570                   2               0  \n",
       "406571                   2               0  \n",
       "\n",
       "[406572 rows x 6 columns]"
      ]
     },
     "execution_count": 70,
     "metadata": {},
     "output_type": "execute_result"
    }
   ],
   "source": [
    "df_selected"
   ]
  },
  {
   "cell_type": "code",
   "execution_count": 73,
   "id": "0ff8f821",
   "metadata": {},
   "outputs": [
    {
     "data": {
      "text/html": [
       "<div>\n",
       "<style scoped>\n",
       "    .dataframe tbody tr th:only-of-type {\n",
       "        vertical-align: middle;\n",
       "    }\n",
       "\n",
       "    .dataframe tbody tr th {\n",
       "        vertical-align: top;\n",
       "    }\n",
       "\n",
       "    .dataframe thead th {\n",
       "        text-align: right;\n",
       "    }\n",
       "</style>\n",
       "<table border=\"1\" class=\"dataframe\">\n",
       "  <thead>\n",
       "    <tr style=\"text-align: right;\">\n",
       "      <th></th>\n",
       "      <th>fps_mean</th>\n",
       "      <th>fps_std</th>\n",
       "      <th>fps_lags</th>\n",
       "      <th>rtt_mean</th>\n",
       "      <th>rtt_std</th>\n",
       "      <th>dropped_frames_mean</th>\n",
       "      <th>dropped_frames_std</th>\n",
       "      <th>dropped_frames_max</th>\n",
       "      <th>auto_bitrate_state</th>\n",
       "      <th>auto_fec_state</th>\n",
       "      <th>auto_fec_mean</th>\n",
       "      <th>stream_quality</th>\n",
       "    </tr>\n",
       "  </thead>\n",
       "  <tbody>\n",
       "    <tr>\n",
       "      <th>0</th>\n",
       "      <td>24.4</td>\n",
       "      <td>0.516398</td>\n",
       "      <td>0</td>\n",
       "      <td>91.1</td>\n",
       "      <td>6.723921</td>\n",
       "      <td>0.0</td>\n",
       "      <td>0.0</td>\n",
       "      <td>0.0</td>\n",
       "      <td>1</td>\n",
       "      <td>1</td>\n",
       "      <td>50.0</td>\n",
       "      <td>0</td>\n",
       "    </tr>\n",
       "    <tr>\n",
       "      <th>1</th>\n",
       "      <td>28.6</td>\n",
       "      <td>2.065591</td>\n",
       "      <td>0</td>\n",
       "      <td>99.7</td>\n",
       "      <td>15.923777</td>\n",
       "      <td>0.0</td>\n",
       "      <td>0.0</td>\n",
       "      <td>0.0</td>\n",
       "      <td>1</td>\n",
       "      <td>1</td>\n",
       "      <td>50.0</td>\n",
       "      <td>0</td>\n",
       "    </tr>\n",
       "    <tr>\n",
       "      <th>2</th>\n",
       "      <td>30.0</td>\n",
       "      <td>0.000000</td>\n",
       "      <td>0</td>\n",
       "      <td>98.1</td>\n",
       "      <td>11.798776</td>\n",
       "      <td>0.0</td>\n",
       "      <td>0.0</td>\n",
       "      <td>0.0</td>\n",
       "      <td>1</td>\n",
       "      <td>1</td>\n",
       "      <td>50.0</td>\n",
       "      <td>0</td>\n",
       "    </tr>\n",
       "    <tr>\n",
       "      <th>3</th>\n",
       "      <td>30.3</td>\n",
       "      <td>0.948683</td>\n",
       "      <td>0</td>\n",
       "      <td>99.4</td>\n",
       "      <td>13.014522</td>\n",
       "      <td>0.0</td>\n",
       "      <td>0.0</td>\n",
       "      <td>0.0</td>\n",
       "      <td>1</td>\n",
       "      <td>1</td>\n",
       "      <td>50.0</td>\n",
       "      <td>0</td>\n",
       "    </tr>\n",
       "    <tr>\n",
       "      <th>4</th>\n",
       "      <td>29.9</td>\n",
       "      <td>0.316228</td>\n",
       "      <td>0</td>\n",
       "      <td>123.2</td>\n",
       "      <td>62.476307</td>\n",
       "      <td>0.0</td>\n",
       "      <td>0.0</td>\n",
       "      <td>0.0</td>\n",
       "      <td>1</td>\n",
       "      <td>1</td>\n",
       "      <td>50.0</td>\n",
       "      <td>0</td>\n",
       "    </tr>\n",
       "    <tr>\n",
       "      <th>...</th>\n",
       "      <td>...</td>\n",
       "      <td>...</td>\n",
       "      <td>...</td>\n",
       "      <td>...</td>\n",
       "      <td>...</td>\n",
       "      <td>...</td>\n",
       "      <td>...</td>\n",
       "      <td>...</td>\n",
       "      <td>...</td>\n",
       "      <td>...</td>\n",
       "      <td>...</td>\n",
       "      <td>...</td>\n",
       "    </tr>\n",
       "    <tr>\n",
       "      <th>406567</th>\n",
       "      <td>40.0</td>\n",
       "      <td>0.000000</td>\n",
       "      <td>0</td>\n",
       "      <td>0.0</td>\n",
       "      <td>0.000000</td>\n",
       "      <td>0.0</td>\n",
       "      <td>0.0</td>\n",
       "      <td>0.0</td>\n",
       "      <td>2</td>\n",
       "      <td>1</td>\n",
       "      <td>50.0</td>\n",
       "      <td>0</td>\n",
       "    </tr>\n",
       "    <tr>\n",
       "      <th>406568</th>\n",
       "      <td>40.0</td>\n",
       "      <td>0.000000</td>\n",
       "      <td>0</td>\n",
       "      <td>0.0</td>\n",
       "      <td>0.000000</td>\n",
       "      <td>0.0</td>\n",
       "      <td>0.0</td>\n",
       "      <td>0.0</td>\n",
       "      <td>2</td>\n",
       "      <td>1</td>\n",
       "      <td>50.0</td>\n",
       "      <td>0</td>\n",
       "    </tr>\n",
       "    <tr>\n",
       "      <th>406569</th>\n",
       "      <td>40.0</td>\n",
       "      <td>0.000000</td>\n",
       "      <td>0</td>\n",
       "      <td>0.0</td>\n",
       "      <td>0.000000</td>\n",
       "      <td>0.0</td>\n",
       "      <td>0.0</td>\n",
       "      <td>0.0</td>\n",
       "      <td>2</td>\n",
       "      <td>1</td>\n",
       "      <td>50.0</td>\n",
       "      <td>0</td>\n",
       "    </tr>\n",
       "    <tr>\n",
       "      <th>406570</th>\n",
       "      <td>40.0</td>\n",
       "      <td>0.000000</td>\n",
       "      <td>0</td>\n",
       "      <td>0.0</td>\n",
       "      <td>0.000000</td>\n",
       "      <td>0.0</td>\n",
       "      <td>0.0</td>\n",
       "      <td>0.0</td>\n",
       "      <td>2</td>\n",
       "      <td>1</td>\n",
       "      <td>50.0</td>\n",
       "      <td>0</td>\n",
       "    </tr>\n",
       "    <tr>\n",
       "      <th>406571</th>\n",
       "      <td>40.0</td>\n",
       "      <td>0.000000</td>\n",
       "      <td>0</td>\n",
       "      <td>0.0</td>\n",
       "      <td>0.000000</td>\n",
       "      <td>0.0</td>\n",
       "      <td>0.0</td>\n",
       "      <td>0.0</td>\n",
       "      <td>2</td>\n",
       "      <td>1</td>\n",
       "      <td>50.0</td>\n",
       "      <td>0</td>\n",
       "    </tr>\n",
       "  </tbody>\n",
       "</table>\n",
       "<p>406572 rows × 12 columns</p>\n",
       "</div>"
      ],
      "text/plain": [
       "        fps_mean   fps_std  fps_lags  rtt_mean    rtt_std  \\\n",
       "0           24.4  0.516398         0      91.1   6.723921   \n",
       "1           28.6  2.065591         0      99.7  15.923777   \n",
       "2           30.0  0.000000         0      98.1  11.798776   \n",
       "3           30.3  0.948683         0      99.4  13.014522   \n",
       "4           29.9  0.316228         0     123.2  62.476307   \n",
       "...          ...       ...       ...       ...        ...   \n",
       "406567      40.0  0.000000         0       0.0   0.000000   \n",
       "406568      40.0  0.000000         0       0.0   0.000000   \n",
       "406569      40.0  0.000000         0       0.0   0.000000   \n",
       "406570      40.0  0.000000         0       0.0   0.000000   \n",
       "406571      40.0  0.000000         0       0.0   0.000000   \n",
       "\n",
       "        dropped_frames_mean  dropped_frames_std  dropped_frames_max  \\\n",
       "0                       0.0                 0.0                 0.0   \n",
       "1                       0.0                 0.0                 0.0   \n",
       "2                       0.0                 0.0                 0.0   \n",
       "3                       0.0                 0.0                 0.0   \n",
       "4                       0.0                 0.0                 0.0   \n",
       "...                     ...                 ...                 ...   \n",
       "406567                  0.0                 0.0                 0.0   \n",
       "406568                  0.0                 0.0                 0.0   \n",
       "406569                  0.0                 0.0                 0.0   \n",
       "406570                  0.0                 0.0                 0.0   \n",
       "406571                  0.0                 0.0                 0.0   \n",
       "\n",
       "        auto_bitrate_state  auto_fec_state  auto_fec_mean  stream_quality  \n",
       "0                        1               1           50.0               0  \n",
       "1                        1               1           50.0               0  \n",
       "2                        1               1           50.0               0  \n",
       "3                        1               1           50.0               0  \n",
       "4                        1               1           50.0               0  \n",
       "...                    ...             ...            ...             ...  \n",
       "406567                   2               1           50.0               0  \n",
       "406568                   2               1           50.0               0  \n",
       "406569                   2               1           50.0               0  \n",
       "406570                   2               1           50.0               0  \n",
       "406571                   2               1           50.0               0  \n",
       "\n",
       "[406572 rows x 12 columns]"
      ]
     },
     "execution_count": 73,
     "metadata": {},
     "output_type": "execute_result"
    }
   ],
   "source": [
    "df"
   ]
  },
  {
   "cell_type": "code",
   "execution_count": 71,
   "id": "7a3dbc9a",
   "metadata": {
    "scrolled": true
   },
   "outputs": [],
   "source": [
    "from sklearn.preprocessing import RobustScaler, StandardScaler\n",
    "\n",
    "def scale_data(df_selected, scaler = None, y_col = 'stream_quality'):\n",
    "    \n",
    "    if not scaler:\n",
    "        scaler = StandardScaler()\n",
    "    df_selected_without_y = df_selected.drop(y_col, axis=1)\n",
    "    scaler.fit(df_selected_without_y)\n",
    "    data_scaled = scaler.transform(df_selected_without_y)\n",
    "    df_scaled = pd.DataFrame(data_scaled, columns = df_selected_without_y.columns)\n",
    "    df_scaled[y_col] = df_selected[y_col]\n",
    "    return scaler, df_scaled"
   ]
  },
  {
   "cell_type": "code",
   "execution_count": 72,
   "id": "0ae84661",
   "metadata": {
    "scrolled": true
   },
   "outputs": [
    {
     "data": {
      "text/html": [
       "<div>\n",
       "<style scoped>\n",
       "    .dataframe tbody tr th:only-of-type {\n",
       "        vertical-align: middle;\n",
       "    }\n",
       "\n",
       "    .dataframe tbody tr th {\n",
       "        vertical-align: top;\n",
       "    }\n",
       "\n",
       "    .dataframe thead th {\n",
       "        text-align: right;\n",
       "    }\n",
       "</style>\n",
       "<table border=\"1\" class=\"dataframe\">\n",
       "  <thead>\n",
       "    <tr style=\"text-align: right;\">\n",
       "      <th></th>\n",
       "      <th>dropped_frames_mean</th>\n",
       "      <th>rtt_mean</th>\n",
       "      <th>fps_mean</th>\n",
       "      <th>auto_fec_state</th>\n",
       "      <th>auto_bitrate_state</th>\n",
       "      <th>stream_quality</th>\n",
       "    </tr>\n",
       "  </thead>\n",
       "  <tbody>\n",
       "    <tr>\n",
       "      <th>0</th>\n",
       "      <td>-0.035099</td>\n",
       "      <td>0.274782</td>\n",
       "      <td>-0.868572</td>\n",
       "      <td>-0.362739</td>\n",
       "      <td>-0.479378</td>\n",
       "      <td>0</td>\n",
       "    </tr>\n",
       "    <tr>\n",
       "      <th>1</th>\n",
       "      <td>-0.035099</td>\n",
       "      <td>0.339023</td>\n",
       "      <td>-0.507296</td>\n",
       "      <td>-0.362739</td>\n",
       "      <td>-0.479378</td>\n",
       "      <td>0</td>\n",
       "    </tr>\n",
       "    <tr>\n",
       "      <th>2</th>\n",
       "      <td>-0.035099</td>\n",
       "      <td>0.327071</td>\n",
       "      <td>-0.386871</td>\n",
       "      <td>-0.362739</td>\n",
       "      <td>-0.479378</td>\n",
       "      <td>0</td>\n",
       "    </tr>\n",
       "    <tr>\n",
       "      <th>3</th>\n",
       "      <td>-0.035099</td>\n",
       "      <td>0.336782</td>\n",
       "      <td>-0.361066</td>\n",
       "      <td>-0.362739</td>\n",
       "      <td>-0.479378</td>\n",
       "      <td>0</td>\n",
       "    </tr>\n",
       "    <tr>\n",
       "      <th>4</th>\n",
       "      <td>-0.035099</td>\n",
       "      <td>0.514564</td>\n",
       "      <td>-0.395473</td>\n",
       "      <td>-0.362739</td>\n",
       "      <td>-0.479378</td>\n",
       "      <td>0</td>\n",
       "    </tr>\n",
       "    <tr>\n",
       "      <th>...</th>\n",
       "      <td>...</td>\n",
       "      <td>...</td>\n",
       "      <td>...</td>\n",
       "      <td>...</td>\n",
       "      <td>...</td>\n",
       "      <td>...</td>\n",
       "    </tr>\n",
       "    <tr>\n",
       "      <th>406567</th>\n",
       "      <td>-0.035099</td>\n",
       "      <td>-0.405719</td>\n",
       "      <td>0.473309</td>\n",
       "      <td>-0.362739</td>\n",
       "      <td>2.058931</td>\n",
       "      <td>0</td>\n",
       "    </tr>\n",
       "    <tr>\n",
       "      <th>406568</th>\n",
       "      <td>-0.035099</td>\n",
       "      <td>-0.405719</td>\n",
       "      <td>0.473309</td>\n",
       "      <td>-0.362739</td>\n",
       "      <td>2.058931</td>\n",
       "      <td>0</td>\n",
       "    </tr>\n",
       "    <tr>\n",
       "      <th>406569</th>\n",
       "      <td>-0.035099</td>\n",
       "      <td>-0.405719</td>\n",
       "      <td>0.473309</td>\n",
       "      <td>-0.362739</td>\n",
       "      <td>2.058931</td>\n",
       "      <td>0</td>\n",
       "    </tr>\n",
       "    <tr>\n",
       "      <th>406570</th>\n",
       "      <td>-0.035099</td>\n",
       "      <td>-0.405719</td>\n",
       "      <td>0.473309</td>\n",
       "      <td>-0.362739</td>\n",
       "      <td>2.058931</td>\n",
       "      <td>0</td>\n",
       "    </tr>\n",
       "    <tr>\n",
       "      <th>406571</th>\n",
       "      <td>-0.035099</td>\n",
       "      <td>-0.405719</td>\n",
       "      <td>0.473309</td>\n",
       "      <td>-0.362739</td>\n",
       "      <td>2.058931</td>\n",
       "      <td>0</td>\n",
       "    </tr>\n",
       "  </tbody>\n",
       "</table>\n",
       "<p>406572 rows × 6 columns</p>\n",
       "</div>"
      ],
      "text/plain": [
       "        dropped_frames_mean  rtt_mean  fps_mean  auto_fec_state  \\\n",
       "0                 -0.035099  0.274782 -0.868572       -0.362739   \n",
       "1                 -0.035099  0.339023 -0.507296       -0.362739   \n",
       "2                 -0.035099  0.327071 -0.386871       -0.362739   \n",
       "3                 -0.035099  0.336782 -0.361066       -0.362739   \n",
       "4                 -0.035099  0.514564 -0.395473       -0.362739   \n",
       "...                     ...       ...       ...             ...   \n",
       "406567            -0.035099 -0.405719  0.473309       -0.362739   \n",
       "406568            -0.035099 -0.405719  0.473309       -0.362739   \n",
       "406569            -0.035099 -0.405719  0.473309       -0.362739   \n",
       "406570            -0.035099 -0.405719  0.473309       -0.362739   \n",
       "406571            -0.035099 -0.405719  0.473309       -0.362739   \n",
       "\n",
       "        auto_bitrate_state  stream_quality  \n",
       "0                -0.479378               0  \n",
       "1                -0.479378               0  \n",
       "2                -0.479378               0  \n",
       "3                -0.479378               0  \n",
       "4                -0.479378               0  \n",
       "...                    ...             ...  \n",
       "406567            2.058931               0  \n",
       "406568            2.058931               0  \n",
       "406569            2.058931               0  \n",
       "406570            2.058931               0  \n",
       "406571            2.058931               0  \n",
       "\n",
       "[406572 rows x 6 columns]"
      ]
     },
     "execution_count": 72,
     "metadata": {},
     "output_type": "execute_result"
    }
   ],
   "source": [
    "scaler, df_scaled = scale_data(df_selected)\n",
    "df_scaled"
   ]
  },
  {
   "cell_type": "code",
   "execution_count": 74,
   "id": "14489162",
   "metadata": {},
   "outputs": [
    {
     "data": {
      "text/html": [
       "<div>\n",
       "<style scoped>\n",
       "    .dataframe tbody tr th:only-of-type {\n",
       "        vertical-align: middle;\n",
       "    }\n",
       "\n",
       "    .dataframe tbody tr th {\n",
       "        vertical-align: top;\n",
       "    }\n",
       "\n",
       "    .dataframe thead th {\n",
       "        text-align: right;\n",
       "    }\n",
       "</style>\n",
       "<table border=\"1\" class=\"dataframe\">\n",
       "  <thead>\n",
       "    <tr style=\"text-align: right;\">\n",
       "      <th></th>\n",
       "      <th>dropped_frames_mean</th>\n",
       "      <th>rtt_mean</th>\n",
       "      <th>fps_mean</th>\n",
       "      <th>auto_fec_state</th>\n",
       "      <th>auto_bitrate_state</th>\n",
       "      <th>stream_quality</th>\n",
       "    </tr>\n",
       "  </thead>\n",
       "  <tbody>\n",
       "    <tr>\n",
       "      <th>0</th>\n",
       "      <td>0.0</td>\n",
       "      <td>91.1</td>\n",
       "      <td>24.4</td>\n",
       "      <td>1</td>\n",
       "      <td>1</td>\n",
       "      <td>0</td>\n",
       "    </tr>\n",
       "    <tr>\n",
       "      <th>1</th>\n",
       "      <td>0.0</td>\n",
       "      <td>99.7</td>\n",
       "      <td>28.6</td>\n",
       "      <td>1</td>\n",
       "      <td>1</td>\n",
       "      <td>0</td>\n",
       "    </tr>\n",
       "    <tr>\n",
       "      <th>2</th>\n",
       "      <td>0.0</td>\n",
       "      <td>98.1</td>\n",
       "      <td>30.0</td>\n",
       "      <td>1</td>\n",
       "      <td>1</td>\n",
       "      <td>0</td>\n",
       "    </tr>\n",
       "    <tr>\n",
       "      <th>3</th>\n",
       "      <td>0.0</td>\n",
       "      <td>99.4</td>\n",
       "      <td>30.3</td>\n",
       "      <td>1</td>\n",
       "      <td>1</td>\n",
       "      <td>0</td>\n",
       "    </tr>\n",
       "    <tr>\n",
       "      <th>4</th>\n",
       "      <td>0.0</td>\n",
       "      <td>123.2</td>\n",
       "      <td>29.9</td>\n",
       "      <td>1</td>\n",
       "      <td>1</td>\n",
       "      <td>0</td>\n",
       "    </tr>\n",
       "    <tr>\n",
       "      <th>...</th>\n",
       "      <td>...</td>\n",
       "      <td>...</td>\n",
       "      <td>...</td>\n",
       "      <td>...</td>\n",
       "      <td>...</td>\n",
       "      <td>...</td>\n",
       "    </tr>\n",
       "    <tr>\n",
       "      <th>406567</th>\n",
       "      <td>0.0</td>\n",
       "      <td>0.0</td>\n",
       "      <td>40.0</td>\n",
       "      <td>1</td>\n",
       "      <td>2</td>\n",
       "      <td>0</td>\n",
       "    </tr>\n",
       "    <tr>\n",
       "      <th>406568</th>\n",
       "      <td>0.0</td>\n",
       "      <td>0.0</td>\n",
       "      <td>40.0</td>\n",
       "      <td>1</td>\n",
       "      <td>2</td>\n",
       "      <td>0</td>\n",
       "    </tr>\n",
       "    <tr>\n",
       "      <th>406569</th>\n",
       "      <td>0.0</td>\n",
       "      <td>0.0</td>\n",
       "      <td>40.0</td>\n",
       "      <td>1</td>\n",
       "      <td>2</td>\n",
       "      <td>0</td>\n",
       "    </tr>\n",
       "    <tr>\n",
       "      <th>406570</th>\n",
       "      <td>0.0</td>\n",
       "      <td>0.0</td>\n",
       "      <td>40.0</td>\n",
       "      <td>1</td>\n",
       "      <td>2</td>\n",
       "      <td>0</td>\n",
       "    </tr>\n",
       "    <tr>\n",
       "      <th>406571</th>\n",
       "      <td>0.0</td>\n",
       "      <td>0.0</td>\n",
       "      <td>40.0</td>\n",
       "      <td>1</td>\n",
       "      <td>2</td>\n",
       "      <td>0</td>\n",
       "    </tr>\n",
       "  </tbody>\n",
       "</table>\n",
       "<p>406572 rows × 6 columns</p>\n",
       "</div>"
      ],
      "text/plain": [
       "        dropped_frames_mean  rtt_mean  fps_mean  auto_fec_state  \\\n",
       "0                       0.0      91.1      24.4               1   \n",
       "1                       0.0      99.7      28.6               1   \n",
       "2                       0.0      98.1      30.0               1   \n",
       "3                       0.0      99.4      30.3               1   \n",
       "4                       0.0     123.2      29.9               1   \n",
       "...                     ...       ...       ...             ...   \n",
       "406567                  0.0       0.0      40.0               1   \n",
       "406568                  0.0       0.0      40.0               1   \n",
       "406569                  0.0       0.0      40.0               1   \n",
       "406570                  0.0       0.0      40.0               1   \n",
       "406571                  0.0       0.0      40.0               1   \n",
       "\n",
       "        auto_bitrate_state  stream_quality  \n",
       "0                        1               0  \n",
       "1                        1               0  \n",
       "2                        1               0  \n",
       "3                        1               0  \n",
       "4                        1               0  \n",
       "...                    ...             ...  \n",
       "406567                   2               0  \n",
       "406568                   2               0  \n",
       "406569                   2               0  \n",
       "406570                   2               0  \n",
       "406571                   2               0  \n",
       "\n",
       "[406572 rows x 6 columns]"
      ]
     },
     "execution_count": 74,
     "metadata": {},
     "output_type": "execute_result"
    }
   ],
   "source": [
    "df_selected"
   ]
  },
  {
   "cell_type": "markdown",
   "id": "b0645915",
   "metadata": {},
   "source": [
    "### Split Data"
   ]
  },
  {
   "cell_type": "code",
   "execution_count": 75,
   "id": "e0b7d77f",
   "metadata": {},
   "outputs": [],
   "source": [
    "from sklearn.model_selection import train_test_split\n",
    "\n",
    "def split_data(data, target = 'stream_quality', test_sz = 0.2):\n",
    "    df_train, df_val, = train_test_split(data, test_size=test_sz, stratify = df_scaled[target], random_state=0)\n",
    "    print(df_train.shape, df_val.shape)\n",
    "    return df_train, df_val"
   ]
  },
  {
   "cell_type": "code",
   "execution_count": 76,
   "id": "8ca9b660",
   "metadata": {},
   "outputs": [
    {
     "name": "stdout",
     "output_type": "stream",
     "text": [
      "(325257, 6) (81315, 6)\n"
     ]
    }
   ],
   "source": [
    "df_train, df_val = split_data(df_scaled)"
   ]
  },
  {
   "cell_type": "markdown",
   "id": "cf292886",
   "metadata": {},
   "source": [
    "### Logistic Regression for Binary Classification"
   ]
  },
  {
   "cell_type": "code",
   "execution_count": 77,
   "id": "dfc214b5",
   "metadata": {},
   "outputs": [],
   "source": [
    "from sklearn.linear_model import LogisticRegression"
   ]
  },
  {
   "cell_type": "code",
   "execution_count": 78,
   "id": "0d8e5db2",
   "metadata": {},
   "outputs": [
    {
     "data": {
      "text/html": [
       "<style>#sk-container-id-1 {color: black;background-color: white;}#sk-container-id-1 pre{padding: 0;}#sk-container-id-1 div.sk-toggleable {background-color: white;}#sk-container-id-1 label.sk-toggleable__label {cursor: pointer;display: block;width: 100%;margin-bottom: 0;padding: 0.3em;box-sizing: border-box;text-align: center;}#sk-container-id-1 label.sk-toggleable__label-arrow:before {content: \"▸\";float: left;margin-right: 0.25em;color: #696969;}#sk-container-id-1 label.sk-toggleable__label-arrow:hover:before {color: black;}#sk-container-id-1 div.sk-estimator:hover label.sk-toggleable__label-arrow:before {color: black;}#sk-container-id-1 div.sk-toggleable__content {max-height: 0;max-width: 0;overflow: hidden;text-align: left;background-color: #f0f8ff;}#sk-container-id-1 div.sk-toggleable__content pre {margin: 0.2em;color: black;border-radius: 0.25em;background-color: #f0f8ff;}#sk-container-id-1 input.sk-toggleable__control:checked~div.sk-toggleable__content {max-height: 200px;max-width: 100%;overflow: auto;}#sk-container-id-1 input.sk-toggleable__control:checked~label.sk-toggleable__label-arrow:before {content: \"▾\";}#sk-container-id-1 div.sk-estimator input.sk-toggleable__control:checked~label.sk-toggleable__label {background-color: #d4ebff;}#sk-container-id-1 div.sk-label input.sk-toggleable__control:checked~label.sk-toggleable__label {background-color: #d4ebff;}#sk-container-id-1 input.sk-hidden--visually {border: 0;clip: rect(1px 1px 1px 1px);clip: rect(1px, 1px, 1px, 1px);height: 1px;margin: -1px;overflow: hidden;padding: 0;position: absolute;width: 1px;}#sk-container-id-1 div.sk-estimator {font-family: monospace;background-color: #f0f8ff;border: 1px dotted black;border-radius: 0.25em;box-sizing: border-box;margin-bottom: 0.5em;}#sk-container-id-1 div.sk-estimator:hover {background-color: #d4ebff;}#sk-container-id-1 div.sk-parallel-item::after {content: \"\";width: 100%;border-bottom: 1px solid gray;flex-grow: 1;}#sk-container-id-1 div.sk-label:hover label.sk-toggleable__label {background-color: #d4ebff;}#sk-container-id-1 div.sk-serial::before {content: \"\";position: absolute;border-left: 1px solid gray;box-sizing: border-box;top: 0;bottom: 0;left: 50%;z-index: 0;}#sk-container-id-1 div.sk-serial {display: flex;flex-direction: column;align-items: center;background-color: white;padding-right: 0.2em;padding-left: 0.2em;position: relative;}#sk-container-id-1 div.sk-item {position: relative;z-index: 1;}#sk-container-id-1 div.sk-parallel {display: flex;align-items: stretch;justify-content: center;background-color: white;position: relative;}#sk-container-id-1 div.sk-item::before, #sk-container-id-1 div.sk-parallel-item::before {content: \"\";position: absolute;border-left: 1px solid gray;box-sizing: border-box;top: 0;bottom: 0;left: 50%;z-index: -1;}#sk-container-id-1 div.sk-parallel-item {display: flex;flex-direction: column;z-index: 1;position: relative;background-color: white;}#sk-container-id-1 div.sk-parallel-item:first-child::after {align-self: flex-end;width: 50%;}#sk-container-id-1 div.sk-parallel-item:last-child::after {align-self: flex-start;width: 50%;}#sk-container-id-1 div.sk-parallel-item:only-child::after {width: 0;}#sk-container-id-1 div.sk-dashed-wrapped {border: 1px dashed gray;margin: 0 0.4em 0.5em 0.4em;box-sizing: border-box;padding-bottom: 0.4em;background-color: white;}#sk-container-id-1 div.sk-label label {font-family: monospace;font-weight: bold;display: inline-block;line-height: 1.2em;}#sk-container-id-1 div.sk-label-container {text-align: center;}#sk-container-id-1 div.sk-container {/* jupyter's `normalize.less` sets `[hidden] { display: none; }` but bootstrap.min.css set `[hidden] { display: none !important; }` so we also need the `!important` here to be able to override the default hidden behavior on the sphinx rendered scikit-learn.org. See: https://github.com/scikit-learn/scikit-learn/issues/21755 */display: inline-block !important;position: relative;}#sk-container-id-1 div.sk-text-repr-fallback {display: none;}</style><div id=\"sk-container-id-1\" class=\"sk-top-container\"><div class=\"sk-text-repr-fallback\"><pre>LogisticRegression()</pre><b>In a Jupyter environment, please rerun this cell to show the HTML representation or trust the notebook. <br />On GitHub, the HTML representation is unable to render, please try loading this page with nbviewer.org.</b></div><div class=\"sk-container\" hidden><div class=\"sk-item\"><div class=\"sk-estimator sk-toggleable\"><input class=\"sk-toggleable__control sk-hidden--visually\" id=\"sk-estimator-id-1\" type=\"checkbox\" checked><label for=\"sk-estimator-id-1\" class=\"sk-toggleable__label sk-toggleable__label-arrow\">LogisticRegression</label><div class=\"sk-toggleable__content\"><pre>LogisticRegression()</pre></div></div></div></div></div>"
      ],
      "text/plain": [
       "LogisticRegression()"
      ]
     },
     "execution_count": 78,
     "metadata": {},
     "output_type": "execute_result"
    }
   ],
   "source": [
    "lr_clf = LogisticRegression()\n",
    "lr_clf.fit(df_train.drop('stream_quality', axis=1), df_train['stream_quality'])"
   ]
  },
  {
   "cell_type": "markdown",
   "id": "bdcf7ea9",
   "metadata": {},
   "source": [
    "### Compute and Plot Cross-Val loss"
   ]
  },
  {
   "cell_type": "code",
   "execution_count": 138,
   "id": "e19c8a1d",
   "metadata": {},
   "outputs": [],
   "source": [
    "from sklearn.model_selection import validation_curve\n",
    "\n",
    "\n",
    "def get_cross_val_curve(classifier, X, y, **params):\n",
    "    train_scores, valid_scores = validation_curve(\n",
    "        classifier, X, y, **params)\n",
    "    \n",
    "    return train_scores, valid_scores\n"
   ]
  },
  {
   "cell_type": "code",
   "execution_count": 139,
   "id": "671edb9e",
   "metadata": {},
   "outputs": [],
   "source": [
    "def plot_scores(train_scores, valid_scores, clf):\n",
    "    # valid_scores\n",
    "    plt.plot(train_scores, label=f'Training {clf}')\n",
    "    plt.plot(valid_scores, label=f'Validation {clf}')\n",
    "\n",
    "    plt.legend()\n",
    "    plt.show()"
   ]
  },
  {
   "cell_type": "code",
   "execution_count": 155,
   "id": "473b626b",
   "metadata": {},
   "outputs": [],
   "source": [
    "X_, y_ = df_train.drop('stream_quality', axis=1), df_train['stream_quality']\n",
    "params = {'param_name':\"penalty\", 'cv' : 10, 'param_range' : ['l2']}\n",
    "tr_lr, val_lr = get_cross_val_curve(LogisticRegression(), X_, y_, **params)"
   ]
  },
  {
   "cell_type": "code",
   "execution_count": 158,
   "id": "1db292fa",
   "metadata": {},
   "outputs": [
    {
     "data": {
      "image/png": "[encoded data removed]",
      "text/plain": [
       "<Figure size 640x480 with 1 Axes>"
      ]
     },
     "metadata": {},
     "output_type": "display_data"
    }
   ],
   "source": [
    "plot_scores(tr_lr.flatten(), val_lr.flatten(), 'Logistic Regression - Full data')"
   ]
  },
  {
   "cell_type": "code",
   "execution_count": 148,
   "id": "e06c88c7",
   "metadata": {},
   "outputs": [
    {
     "data": {
      "text/plain": [
       "((1, 10), (1, 10))"
      ]
     },
     "execution_count": 148,
     "metadata": {},
     "output_type": "execute_result"
    }
   ],
   "source": [
    "\n",
    "tr, val = get_cross_val_curve(LogisticRegression(), X_down, y_down, **params)\n",
    "tr.shape, val.shape"
   ]
  },
  {
   "cell_type": "code",
   "execution_count": 153,
   "id": "adadac5b",
   "metadata": {},
   "outputs": [
    {
     "data": {
      "image/png": "[encoded data removed]",
      "text/plain": [
       "<Figure size 640x480 with 1 Axes>"
      ]
     },
     "metadata": {},
     "output_type": "display_data"
    }
   ],
   "source": [
    "plot_scores(tr.flatten(), val.flatten(), 'LR with Resampling')"
   ]
  },
  {
   "cell_type": "code",
   "execution_count": 128,
   "id": "e9c964e1",
   "metadata": {},
   "outputs": [
    {
     "data": {
      "text/plain": [
       "0.9353255856852979"
      ]
     },
     "execution_count": 128,
     "metadata": {},
     "output_type": "execute_result"
    }
   ],
   "source": [
    "lr_clf.score(df_val.drop('stream_quality', axis=1), df_val['stream_quality'])"
   ]
  },
  {
   "cell_type": "markdown",
   "id": "6f31e4a3",
   "metadata": {},
   "source": [
    "### Evaluate Model on eval data"
   ]
  },
  {
   "cell_type": "code",
   "execution_count": 164,
   "id": "27fb1f17",
   "metadata": {},
   "outputs": [],
   "source": [
    "class_wise_scores = {}"
   ]
  },
  {
   "cell_type": "code",
   "execution_count": 80,
   "id": "03908bdd",
   "metadata": {},
   "outputs": [],
   "source": [
    "from sklearn.metrics import classification_report\n",
    "\n",
    "def print_class_report(y_pred, y_true):\n",
    "    print()\n",
    "    print(\"Classification Report:\")\n",
    "    target_names = [ 'Stream 0', 'Stream 1',]\n",
    "    print(classification_report(y_true, y_pred, target_names=target_names))"
   ]
  },
  {
   "cell_type": "code",
   "execution_count": 81,
   "id": "d96ac6c6",
   "metadata": {},
   "outputs": [],
   "source": [
    "from sklearn.metrics import precision_recall_fscore_support\n",
    "from sklearn.metrics import accuracy_score\n",
    "\n",
    "def print_eval_metrics(y_pred, y_true):\n",
    "    p, r, f1, _ = precision_recall_fscore_support(y_true, y_pred, average='macro')\n",
    "    acc = accuracy_score(y_true, y_pred)\n",
    "    print(\"Accuracy: \", round(acc, 2))\n",
    "    print(\"Precision: \", round(p, 2))\n",
    "    print(\"Recall: \", round(r, 2))\n",
    "    print(\"F1_score: \", round(f1, 2))\n",
    "    print_class_report(y_pred, y_true)"
   ]
  },
  {
   "cell_type": "code",
   "execution_count": 82,
   "id": "ec5ad30a",
   "metadata": {},
   "outputs": [
    {
     "name": "stdout",
     "output_type": "stream",
     "text": [
      "Accuracy:  0.94\n",
      "Precision:  0.91\n",
      "Recall:  0.53\n",
      "F1_score:  0.54\n",
      "\n",
      "Classification Report:\n",
      "              precision    recall  f1-score   support\n",
      "\n",
      "    Stream 0       0.94      1.00      0.97     75748\n",
      "    Stream 1       0.89      0.06      0.12      5567\n",
      "\n",
      "    accuracy                           0.94     81315\n",
      "   macro avg       0.91      0.53      0.54     81315\n",
      "weighted avg       0.93      0.94      0.91     81315\n",
      "\n"
     ]
    }
   ],
   "source": [
    "y_true = df_val['stream_quality']\n",
    "y_pred = lr_clf.predict(df_val.drop('stream_quality', axis=1))\n",
    "\n",
    "print_eval_metrics(y_pred, y_true)"
   ]
  },
  {
   "cell_type": "code",
   "execution_count": 83,
   "id": "c448611b",
   "metadata": {},
   "outputs": [
    {
     "name": "stdout",
     "output_type": "stream",
     "text": [
      "eda_classification.html  readme.txt  test_data.csv  train_data.csv\r\n"
     ]
    }
   ],
   "source": [
    "!ls $base"
   ]
  },
  {
   "cell_type": "markdown",
   "id": "ec5c678e",
   "metadata": {},
   "source": [
    "### Evaluate model on test data"
   ]
  },
  {
   "cell_type": "code",
   "execution_count": 168,
   "id": "af912444",
   "metadata": {},
   "outputs": [],
   "source": [
    "df_test = pd.read_csv(base + 'test_data.csv')"
   ]
  },
  {
   "cell_type": "code",
   "execution_count": 169,
   "id": "78db1305",
   "metadata": {},
   "outputs": [
    {
     "data": {
      "text/plain": [
       "'No of NaNs in the dataset 0'"
      ]
     },
     "execution_count": 169,
     "metadata": {},
     "output_type": "execute_result"
    }
   ],
   "source": [
    "\"No of NaNs in the dataset %d\" % _check_nans(df_test) # Check for nans"
   ]
  },
  {
   "cell_type": "code",
   "execution_count": 170,
   "id": "8fe9ec2a",
   "metadata": {},
   "outputs": [],
   "source": [
    "_, df_test_enc = encode_data(df_test, cat_cols, oe=encoder)\n",
    "df_test_enc = df_test_enc[selected_cols]"
   ]
  },
  {
   "cell_type": "code",
   "execution_count": 171,
   "id": "02c89d0a",
   "metadata": {},
   "outputs": [],
   "source": [
    "_, df_test_scaled = scale_data(df_test_enc, scaler=scaler)"
   ]
  },
  {
   "cell_type": "code",
   "execution_count": 172,
   "id": "2df4118b",
   "metadata": {
    "scrolled": true
   },
   "outputs": [],
   "source": [
    "pred = lr_clf.predict(df_test_scaled.drop('stream_quality', axis=1))"
   ]
  },
  {
   "cell_type": "code",
   "execution_count": 173,
   "id": "9e950a73",
   "metadata": {
    "scrolled": true
   },
   "outputs": [
    {
     "name": "stdout",
     "output_type": "stream",
     "text": [
      "Accuracy:  0.94\n",
      "Precision:  0.88\n",
      "Recall:  0.52\n",
      "F1_score:  0.52\n",
      "\n",
      "Classification Report:\n",
      "              precision    recall  f1-score   support\n",
      "\n",
      "    Stream 0       0.94      1.00      0.97    227902\n",
      "    Stream 1       0.83      0.04      0.08     15694\n",
      "\n",
      "    accuracy                           0.94    243596\n",
      "   macro avg       0.88      0.52      0.52    243596\n",
      "weighted avg       0.93      0.94      0.91    243596\n",
      "\n"
     ]
    }
   ],
   "source": [
    "print_eval_metrics(pred, df_test_scaled['stream_quality'])"
   ]
  },
  {
   "cell_type": "code",
   "execution_count": 174,
   "id": "95104d59",
   "metadata": {},
   "outputs": [],
   "source": [
    "class_wise_scores['lr'] = classification_report(df_test_scaled['stream_quality'], pred, target_names=['0', '1'], output_dict=True)"
   ]
  },
  {
   "cell_type": "markdown",
   "id": "f982b97e",
   "metadata": {},
   "source": [
    "## Resampling and Retraining of Logistic Regression"
   ]
  },
  {
   "cell_type": "code",
   "execution_count": 278,
   "id": "e74c5a65",
   "metadata": {},
   "outputs": [
    {
     "data": {
      "text/html": [
       "<div>\n",
       "<style scoped>\n",
       "    .dataframe tbody tr th:only-of-type {\n",
       "        vertical-align: middle;\n",
       "    }\n",
       "\n",
       "    .dataframe tbody tr th {\n",
       "        vertical-align: top;\n",
       "    }\n",
       "\n",
       "    .dataframe thead th {\n",
       "        text-align: right;\n",
       "    }\n",
       "</style>\n",
       "<table border=\"1\" class=\"dataframe\">\n",
       "  <thead>\n",
       "    <tr style=\"text-align: right;\">\n",
       "      <th></th>\n",
       "      <th>dropped_frames_mean</th>\n",
       "      <th>rtt_mean</th>\n",
       "      <th>fps_mean</th>\n",
       "      <th>auto_fec_state</th>\n",
       "      <th>auto_bitrate_state</th>\n",
       "      <th>stream_quality</th>\n",
       "    </tr>\n",
       "  </thead>\n",
       "  <tbody>\n",
       "    <tr>\n",
       "      <th>245746</th>\n",
       "      <td>-0.017054</td>\n",
       "      <td>-0.279183</td>\n",
       "      <td>0.538114</td>\n",
       "      <td>2.786864</td>\n",
       "      <td>2.003636</td>\n",
       "      <td>0</td>\n",
       "    </tr>\n",
       "    <tr>\n",
       "      <th>57666</th>\n",
       "      <td>-0.017054</td>\n",
       "      <td>-0.397100</td>\n",
       "      <td>-0.901494</td>\n",
       "      <td>-0.358826</td>\n",
       "      <td>-0.492260</td>\n",
       "      <td>0</td>\n",
       "    </tr>\n",
       "    <tr>\n",
       "      <th>340753</th>\n",
       "      <td>-0.017054</td>\n",
       "      <td>0.505703</td>\n",
       "      <td>-0.515258</td>\n",
       "      <td>-0.358826</td>\n",
       "      <td>-0.492260</td>\n",
       "      <td>0</td>\n",
       "    </tr>\n",
       "    <tr>\n",
       "      <th>165958</th>\n",
       "      <td>-0.017054</td>\n",
       "      <td>0.092256</td>\n",
       "      <td>-0.445033</td>\n",
       "      <td>-0.358826</td>\n",
       "      <td>-0.492260</td>\n",
       "      <td>0</td>\n",
       "    </tr>\n",
       "    <tr>\n",
       "      <th>76402</th>\n",
       "      <td>-0.017054</td>\n",
       "      <td>0.277975</td>\n",
       "      <td>-0.453811</td>\n",
       "      <td>-0.358826</td>\n",
       "      <td>-0.492260</td>\n",
       "      <td>0</td>\n",
       "    </tr>\n",
       "    <tr>\n",
       "      <th>...</th>\n",
       "      <td>...</td>\n",
       "      <td>...</td>\n",
       "      <td>...</td>\n",
       "      <td>...</td>\n",
       "      <td>...</td>\n",
       "      <td>...</td>\n",
       "    </tr>\n",
       "    <tr>\n",
       "      <th>197933</th>\n",
       "      <td>-0.017054</td>\n",
       "      <td>-0.325613</td>\n",
       "      <td>-0.453811</td>\n",
       "      <td>-0.358826</td>\n",
       "      <td>-0.492260</td>\n",
       "      <td>0</td>\n",
       "    </tr>\n",
       "    <tr>\n",
       "      <th>273870</th>\n",
       "      <td>-0.017054</td>\n",
       "      <td>-0.386045</td>\n",
       "      <td>-1.006831</td>\n",
       "      <td>-0.358826</td>\n",
       "      <td>-0.492260</td>\n",
       "      <td>0</td>\n",
       "    </tr>\n",
       "    <tr>\n",
       "      <th>118006</th>\n",
       "      <td>-0.017054</td>\n",
       "      <td>-0.385308</td>\n",
       "      <td>0.459111</td>\n",
       "      <td>-0.358826</td>\n",
       "      <td>2.003636</td>\n",
       "      <td>0</td>\n",
       "    </tr>\n",
       "    <tr>\n",
       "      <th>291983</th>\n",
       "      <td>-0.017054</td>\n",
       "      <td>-0.259284</td>\n",
       "      <td>-0.576704</td>\n",
       "      <td>-0.358826</td>\n",
       "      <td>2.003636</td>\n",
       "      <td>0</td>\n",
       "    </tr>\n",
       "    <tr>\n",
       "      <th>265335</th>\n",
       "      <td>-0.017054</td>\n",
       "      <td>-0.335931</td>\n",
       "      <td>-1.068277</td>\n",
       "      <td>-0.358826</td>\n",
       "      <td>-0.492260</td>\n",
       "      <td>0</td>\n",
       "    </tr>\n",
       "  </tbody>\n",
       "</table>\n",
       "<p>298513 rows × 6 columns</p>\n",
       "</div>"
      ],
      "text/plain": [
       "        dropped_frames_mean  rtt_mean  fps_mean  auto_fec_state  \\\n",
       "245746            -0.017054 -0.279183  0.538114        2.786864   \n",
       "57666             -0.017054 -0.397100 -0.901494       -0.358826   \n",
       "340753            -0.017054  0.505703 -0.515258       -0.358826   \n",
       "165958            -0.017054  0.092256 -0.445033       -0.358826   \n",
       "76402             -0.017054  0.277975 -0.453811       -0.358826   \n",
       "...                     ...       ...       ...             ...   \n",
       "197933            -0.017054 -0.325613 -0.453811       -0.358826   \n",
       "273870            -0.017054 -0.386045 -1.006831       -0.358826   \n",
       "118006            -0.017054 -0.385308  0.459111       -0.358826   \n",
       "291983            -0.017054 -0.259284 -0.576704       -0.358826   \n",
       "265335            -0.017054 -0.335931 -1.068277       -0.358826   \n",
       "\n",
       "        auto_bitrate_state  stream_quality  \n",
       "245746            2.003636               0  \n",
       "57666            -0.492260               0  \n",
       "340753           -0.492260               0  \n",
       "165958           -0.492260               0  \n",
       "76402            -0.492260               0  \n",
       "...                    ...             ...  \n",
       "197933           -0.492260               0  \n",
       "273870           -0.492260               0  \n",
       "118006            2.003636               0  \n",
       "291983            2.003636               0  \n",
       "265335           -0.492260               0  \n",
       "\n",
       "[298513 rows x 6 columns]"
      ]
     },
     "execution_count": 278,
     "metadata": {},
     "output_type": "execute_result"
    }
   ],
   "source": [
    "df_train"
   ]
  },
  {
   "cell_type": "code",
   "execution_count": 84,
   "id": "bbb24048",
   "metadata": {
    "scrolled": true
   },
   "outputs": [],
   "source": [
    "from imblearn.over_sampling import RandomOverSampler\n",
    "from imblearn.under_sampling import RandomUnderSampler\n",
    "\n",
    "TARGET = 'stream_quality'\n",
    "\n",
    "oversample = RandomOverSampler(sampling_strategy=0.3)\n",
    "X_over, y_over = oversample.fit_resample(df_train.drop(TARGET, axis=1), df_train[TARGET])"
   ]
  },
  {
   "cell_type": "code",
   "execution_count": 85,
   "id": "f68a6691",
   "metadata": {},
   "outputs": [
    {
     "data": {
      "text/plain": [
       "0    302990\n",
       "1     90897\n",
       "Name: stream_quality, dtype: int64"
      ]
     },
     "execution_count": 85,
     "metadata": {},
     "output_type": "execute_result"
    }
   ],
   "source": [
    "y_over.value_counts()"
   ]
  },
  {
   "cell_type": "code",
   "execution_count": 86,
   "id": "cc023cbd",
   "metadata": {},
   "outputs": [
    {
     "data": {
      "text/plain": [
       "0    302990\n",
       "1     22267\n",
       "Name: stream_quality, dtype: int64"
      ]
     },
     "execution_count": 86,
     "metadata": {},
     "output_type": "execute_result"
    }
   ],
   "source": [
    "df_train[TARGET].value_counts()"
   ]
  },
  {
   "cell_type": "code",
   "execution_count": 87,
   "id": "6f0af374",
   "metadata": {},
   "outputs": [],
   "source": [
    "downsample = RandomUnderSampler(sampling_strategy=0.5)\n",
    "X_down, y_down = downsample.fit_resample(X_over, y_over)"
   ]
  },
  {
   "cell_type": "code",
   "execution_count": 88,
   "id": "d924d451",
   "metadata": {},
   "outputs": [
    {
     "data": {
      "text/plain": [
       "0    181794\n",
       "1     90897\n",
       "Name: stream_quality, dtype: int64"
      ]
     },
     "execution_count": 88,
     "metadata": {},
     "output_type": "execute_result"
    }
   ],
   "source": [
    "y_down.value_counts()"
   ]
  },
  {
   "cell_type": "code",
   "execution_count": 89,
   "id": "747efba6",
   "metadata": {},
   "outputs": [
    {
     "data": {
      "text/html": [
       "<div>\n",
       "<style scoped>\n",
       "    .dataframe tbody tr th:only-of-type {\n",
       "        vertical-align: middle;\n",
       "    }\n",
       "\n",
       "    .dataframe tbody tr th {\n",
       "        vertical-align: top;\n",
       "    }\n",
       "\n",
       "    .dataframe thead th {\n",
       "        text-align: right;\n",
       "    }\n",
       "</style>\n",
       "<table border=\"1\" class=\"dataframe\">\n",
       "  <thead>\n",
       "    <tr style=\"text-align: right;\">\n",
       "      <th></th>\n",
       "      <th>dropped_frames_mean</th>\n",
       "      <th>rtt_mean</th>\n",
       "      <th>fps_mean</th>\n",
       "      <th>auto_fec_state</th>\n",
       "      <th>auto_bitrate_state</th>\n",
       "    </tr>\n",
       "  </thead>\n",
       "  <tbody>\n",
       "    <tr>\n",
       "      <th>0</th>\n",
       "      <td>-0.035099</td>\n",
       "      <td>-0.159215</td>\n",
       "      <td>1.763578</td>\n",
       "      <td>-0.362739</td>\n",
       "      <td>-0.479378</td>\n",
       "    </tr>\n",
       "    <tr>\n",
       "      <th>1</th>\n",
       "      <td>-0.035099</td>\n",
       "      <td>-0.333262</td>\n",
       "      <td>-0.455685</td>\n",
       "      <td>-0.362739</td>\n",
       "      <td>-0.479378</td>\n",
       "    </tr>\n",
       "    <tr>\n",
       "      <th>2</th>\n",
       "      <td>-0.035099</td>\n",
       "      <td>43.584096</td>\n",
       "      <td>-0.352464</td>\n",
       "      <td>2.756804</td>\n",
       "      <td>2.058931</td>\n",
       "    </tr>\n",
       "    <tr>\n",
       "      <th>3</th>\n",
       "      <td>-0.035099</td>\n",
       "      <td>-0.045674</td>\n",
       "      <td>-0.395473</td>\n",
       "      <td>-0.362739</td>\n",
       "      <td>-0.479378</td>\n",
       "    </tr>\n",
       "    <tr>\n",
       "      <th>4</th>\n",
       "      <td>-0.035099</td>\n",
       "      <td>-0.339985</td>\n",
       "      <td>-0.481491</td>\n",
       "      <td>-0.362739</td>\n",
       "      <td>-0.479378</td>\n",
       "    </tr>\n",
       "    <tr>\n",
       "      <th>...</th>\n",
       "      <td>...</td>\n",
       "      <td>...</td>\n",
       "      <td>...</td>\n",
       "      <td>...</td>\n",
       "      <td>...</td>\n",
       "    </tr>\n",
       "    <tr>\n",
       "      <th>272686</th>\n",
       "      <td>-0.035099</td>\n",
       "      <td>-0.289190</td>\n",
       "      <td>1.247470</td>\n",
       "      <td>-0.362739</td>\n",
       "      <td>-0.479378</td>\n",
       "    </tr>\n",
       "    <tr>\n",
       "      <th>272687</th>\n",
       "      <td>-0.035099</td>\n",
       "      <td>2.624043</td>\n",
       "      <td>1.978623</td>\n",
       "      <td>-0.362739</td>\n",
       "      <td>-0.479378</td>\n",
       "    </tr>\n",
       "    <tr>\n",
       "      <th>272688</th>\n",
       "      <td>-0.035099</td>\n",
       "      <td>-0.304130</td>\n",
       "      <td>-0.447084</td>\n",
       "      <td>-0.362739</td>\n",
       "      <td>-0.479378</td>\n",
       "    </tr>\n",
       "    <tr>\n",
       "      <th>272689</th>\n",
       "      <td>-0.035099</td>\n",
       "      <td>1.070319</td>\n",
       "      <td>-1.961000</td>\n",
       "      <td>-0.362739</td>\n",
       "      <td>2.058931</td>\n",
       "    </tr>\n",
       "    <tr>\n",
       "      <th>272690</th>\n",
       "      <td>-0.035099</td>\n",
       "      <td>-0.300395</td>\n",
       "      <td>-0.386871</td>\n",
       "      <td>-0.362739</td>\n",
       "      <td>-0.479378</td>\n",
       "    </tr>\n",
       "  </tbody>\n",
       "</table>\n",
       "<p>272691 rows × 5 columns</p>\n",
       "</div>"
      ],
      "text/plain": [
       "        dropped_frames_mean   rtt_mean  fps_mean  auto_fec_state  \\\n",
       "0                 -0.035099  -0.159215  1.763578       -0.362739   \n",
       "1                 -0.035099  -0.333262 -0.455685       -0.362739   \n",
       "2                 -0.035099  43.584096 -0.352464        2.756804   \n",
       "3                 -0.035099  -0.045674 -0.395473       -0.362739   \n",
       "4                 -0.035099  -0.339985 -0.481491       -0.362739   \n",
       "...                     ...        ...       ...             ...   \n",
       "272686            -0.035099  -0.289190  1.247470       -0.362739   \n",
       "272687            -0.035099   2.624043  1.978623       -0.362739   \n",
       "272688            -0.035099  -0.304130 -0.447084       -0.362739   \n",
       "272689            -0.035099   1.070319 -1.961000       -0.362739   \n",
       "272690            -0.035099  -0.300395 -0.386871       -0.362739   \n",
       "\n",
       "        auto_bitrate_state  \n",
       "0                -0.479378  \n",
       "1                -0.479378  \n",
       "2                 2.058931  \n",
       "3                -0.479378  \n",
       "4                -0.479378  \n",
       "...                    ...  \n",
       "272686           -0.479378  \n",
       "272687           -0.479378  \n",
       "272688           -0.479378  \n",
       "272689            2.058931  \n",
       "272690           -0.479378  \n",
       "\n",
       "[272691 rows x 5 columns]"
      ]
     },
     "execution_count": 89,
     "metadata": {},
     "output_type": "execute_result"
    }
   ],
   "source": [
    "X_down"
   ]
  },
  {
   "cell_type": "code",
   "execution_count": 146,
   "id": "d5fda097",
   "metadata": {},
   "outputs": [
    {
     "data": {
      "text/html": [
       "<style>#sk-container-id-5 {color: black;background-color: white;}#sk-container-id-5 pre{padding: 0;}#sk-container-id-5 div.sk-toggleable {background-color: white;}#sk-container-id-5 label.sk-toggleable__label {cursor: pointer;display: block;width: 100%;margin-bottom: 0;padding: 0.3em;box-sizing: border-box;text-align: center;}#sk-container-id-5 label.sk-toggleable__label-arrow:before {content: \"▸\";float: left;margin-right: 0.25em;color: #696969;}#sk-container-id-5 label.sk-toggleable__label-arrow:hover:before {color: black;}#sk-container-id-5 div.sk-estimator:hover label.sk-toggleable__label-arrow:before {color: black;}#sk-container-id-5 div.sk-toggleable__content {max-height: 0;max-width: 0;overflow: hidden;text-align: left;background-color: #f0f8ff;}#sk-container-id-5 div.sk-toggleable__content pre {margin: 0.2em;color: black;border-radius: 0.25em;background-color: #f0f8ff;}#sk-container-id-5 input.sk-toggleable__control:checked~div.sk-toggleable__content {max-height: 200px;max-width: 100%;overflow: auto;}#sk-container-id-5 input.sk-toggleable__control:checked~label.sk-toggleable__label-arrow:before {content: \"▾\";}#sk-container-id-5 div.sk-estimator input.sk-toggleable__control:checked~label.sk-toggleable__label {background-color: #d4ebff;}#sk-container-id-5 div.sk-label input.sk-toggleable__control:checked~label.sk-toggleable__label {background-color: #d4ebff;}#sk-container-id-5 input.sk-hidden--visually {border: 0;clip: rect(1px 1px 1px 1px);clip: rect(1px, 1px, 1px, 1px);height: 1px;margin: -1px;overflow: hidden;padding: 0;position: absolute;width: 1px;}#sk-container-id-5 div.sk-estimator {font-family: monospace;background-color: #f0f8ff;border: 1px dotted black;border-radius: 0.25em;box-sizing: border-box;margin-bottom: 0.5em;}#sk-container-id-5 div.sk-estimator:hover {background-color: #d4ebff;}#sk-container-id-5 div.sk-parallel-item::after {content: \"\";width: 100%;border-bottom: 1px solid gray;flex-grow: 1;}#sk-container-id-5 div.sk-label:hover label.sk-toggleable__label {background-color: #d4ebff;}#sk-container-id-5 div.sk-serial::before {content: \"\";position: absolute;border-left: 1px solid gray;box-sizing: border-box;top: 0;bottom: 0;left: 50%;z-index: 0;}#sk-container-id-5 div.sk-serial {display: flex;flex-direction: column;align-items: center;background-color: white;padding-right: 0.2em;padding-left: 0.2em;position: relative;}#sk-container-id-5 div.sk-item {position: relative;z-index: 1;}#sk-container-id-5 div.sk-parallel {display: flex;align-items: stretch;justify-content: center;background-color: white;position: relative;}#sk-container-id-5 div.sk-item::before, #sk-container-id-5 div.sk-parallel-item::before {content: \"\";position: absolute;border-left: 1px solid gray;box-sizing: border-box;top: 0;bottom: 0;left: 50%;z-index: -1;}#sk-container-id-5 div.sk-parallel-item {display: flex;flex-direction: column;z-index: 1;position: relative;background-color: white;}#sk-container-id-5 div.sk-parallel-item:first-child::after {align-self: flex-end;width: 50%;}#sk-container-id-5 div.sk-parallel-item:last-child::after {align-self: flex-start;width: 50%;}#sk-container-id-5 div.sk-parallel-item:only-child::after {width: 0;}#sk-container-id-5 div.sk-dashed-wrapped {border: 1px dashed gray;margin: 0 0.4em 0.5em 0.4em;box-sizing: border-box;padding-bottom: 0.4em;background-color: white;}#sk-container-id-5 div.sk-label label {font-family: monospace;font-weight: bold;display: inline-block;line-height: 1.2em;}#sk-container-id-5 div.sk-label-container {text-align: center;}#sk-container-id-5 div.sk-container {/* jupyter's `normalize.less` sets `[hidden] { display: none; }` but bootstrap.min.css set `[hidden] { display: none !important; }` so we also need the `!important` here to be able to override the default hidden behavior on the sphinx rendered scikit-learn.org. See: https://github.com/scikit-learn/scikit-learn/issues/21755 */display: inline-block !important;position: relative;}#sk-container-id-5 div.sk-text-repr-fallback {display: none;}</style><div id=\"sk-container-id-5\" class=\"sk-top-container\"><div class=\"sk-text-repr-fallback\"><pre>LogisticRegression()</pre><b>In a Jupyter environment, please rerun this cell to show the HTML representation or trust the notebook. <br />On GitHub, the HTML representation is unable to render, please try loading this page with nbviewer.org.</b></div><div class=\"sk-container\" hidden><div class=\"sk-item\"><div class=\"sk-estimator sk-toggleable\"><input class=\"sk-toggleable__control sk-hidden--visually\" id=\"sk-estimator-id-5\" type=\"checkbox\" checked><label for=\"sk-estimator-id-5\" class=\"sk-toggleable__label sk-toggleable__label-arrow\">LogisticRegression</label><div class=\"sk-toggleable__content\"><pre>LogisticRegression()</pre></div></div></div></div></div>"
      ],
      "text/plain": [
       "LogisticRegression()"
      ]
     },
     "execution_count": 146,
     "metadata": {},
     "output_type": "execute_result"
    }
   ],
   "source": [
    "lr_clf_sampl = LogisticRegression()\n",
    "lr_clf_sampl.fit(X_down, y_down)"
   ]
  },
  {
   "cell_type": "code",
   "execution_count": 147,
   "id": "d10d3cc5",
   "metadata": {},
   "outputs": [
    {
     "name": "stdout",
     "output_type": "stream",
     "text": [
      "Accuracy:  0.79\n",
      "Precision:  0.54\n",
      "Recall:  0.61\n",
      "F1_score:  0.54\n",
      "\n",
      "Classification Report:\n",
      "              precision    recall  f1-score   support\n",
      "\n",
      "    Stream 0       0.95      0.81      0.88    227902\n",
      "    Stream 1       0.13      0.41      0.20     15694\n",
      "\n",
      "    accuracy                           0.79    243596\n",
      "   macro avg       0.54      0.61      0.54    243596\n",
      "weighted avg       0.90      0.79      0.83    243596\n",
      "\n"
     ]
    }
   ],
   "source": [
    "pred_ds = lr_clf_sampl.predict(df_test_scaled.drop('stream_quality', axis=1))\n",
    "\n",
    "print_eval_metrics(pred_ds, df_test_scaled['stream_quality'])"
   ]
  },
  {
   "cell_type": "code",
   "execution_count": 176,
   "id": "ec28776b",
   "metadata": {},
   "outputs": [],
   "source": [
    "class_wise_scores['lr_resample'] = classification_report(df_test_scaled['stream_quality'], pred_ds, target_names=['0', '1'], output_dict=True)"
   ]
  },
  {
   "cell_type": "markdown",
   "id": "ed41e71d",
   "metadata": {},
   "source": [
    "### SVC Model"
   ]
  },
  {
   "cell_type": "code",
   "execution_count": 92,
   "id": "89ec462e",
   "metadata": {},
   "outputs": [
    {
     "data": {
      "text/html": [
       "<style>#sk-container-id-3 {color: black;background-color: white;}#sk-container-id-3 pre{padding: 0;}#sk-container-id-3 div.sk-toggleable {background-color: white;}#sk-container-id-3 label.sk-toggleable__label {cursor: pointer;display: block;width: 100%;margin-bottom: 0;padding: 0.3em;box-sizing: border-box;text-align: center;}#sk-container-id-3 label.sk-toggleable__label-arrow:before {content: \"▸\";float: left;margin-right: 0.25em;color: #696969;}#sk-container-id-3 label.sk-toggleable__label-arrow:hover:before {color: black;}#sk-container-id-3 div.sk-estimator:hover label.sk-toggleable__label-arrow:before {color: black;}#sk-container-id-3 div.sk-toggleable__content {max-height: 0;max-width: 0;overflow: hidden;text-align: left;background-color: #f0f8ff;}#sk-container-id-3 div.sk-toggleable__content pre {margin: 0.2em;color: black;border-radius: 0.25em;background-color: #f0f8ff;}#sk-container-id-3 input.sk-toggleable__control:checked~div.sk-toggleable__content {max-height: 200px;max-width: 100%;overflow: auto;}#sk-container-id-3 input.sk-toggleable__control:checked~label.sk-toggleable__label-arrow:before {content: \"▾\";}#sk-container-id-3 div.sk-estimator input.sk-toggleable__control:checked~label.sk-toggleable__label {background-color: #d4ebff;}#sk-container-id-3 div.sk-label input.sk-toggleable__control:checked~label.sk-toggleable__label {background-color: #d4ebff;}#sk-container-id-3 input.sk-hidden--visually {border: 0;clip: rect(1px 1px 1px 1px);clip: rect(1px, 1px, 1px, 1px);height: 1px;margin: -1px;overflow: hidden;padding: 0;position: absolute;width: 1px;}#sk-container-id-3 div.sk-estimator {font-family: monospace;background-color: #f0f8ff;border: 1px dotted black;border-radius: 0.25em;box-sizing: border-box;margin-bottom: 0.5em;}#sk-container-id-3 div.sk-estimator:hover {background-color: #d4ebff;}#sk-container-id-3 div.sk-parallel-item::after {content: \"\";width: 100%;border-bottom: 1px solid gray;flex-grow: 1;}#sk-container-id-3 div.sk-label:hover label.sk-toggleable__label {background-color: #d4ebff;}#sk-container-id-3 div.sk-serial::before {content: \"\";position: absolute;border-left: 1px solid gray;box-sizing: border-box;top: 0;bottom: 0;left: 50%;z-index: 0;}#sk-container-id-3 div.sk-serial {display: flex;flex-direction: column;align-items: center;background-color: white;padding-right: 0.2em;padding-left: 0.2em;position: relative;}#sk-container-id-3 div.sk-item {position: relative;z-index: 1;}#sk-container-id-3 div.sk-parallel {display: flex;align-items: stretch;justify-content: center;background-color: white;position: relative;}#sk-container-id-3 div.sk-item::before, #sk-container-id-3 div.sk-parallel-item::before {content: \"\";position: absolute;border-left: 1px solid gray;box-sizing: border-box;top: 0;bottom: 0;left: 50%;z-index: -1;}#sk-container-id-3 div.sk-parallel-item {display: flex;flex-direction: column;z-index: 1;position: relative;background-color: white;}#sk-container-id-3 div.sk-parallel-item:first-child::after {align-self: flex-end;width: 50%;}#sk-container-id-3 div.sk-parallel-item:last-child::after {align-self: flex-start;width: 50%;}#sk-container-id-3 div.sk-parallel-item:only-child::after {width: 0;}#sk-container-id-3 div.sk-dashed-wrapped {border: 1px dashed gray;margin: 0 0.4em 0.5em 0.4em;box-sizing: border-box;padding-bottom: 0.4em;background-color: white;}#sk-container-id-3 div.sk-label label {font-family: monospace;font-weight: bold;display: inline-block;line-height: 1.2em;}#sk-container-id-3 div.sk-label-container {text-align: center;}#sk-container-id-3 div.sk-container {/* jupyter's `normalize.less` sets `[hidden] { display: none; }` but bootstrap.min.css set `[hidden] { display: none !important; }` so we also need the `!important` here to be able to override the default hidden behavior on the sphinx rendered scikit-learn.org. See: https://github.com/scikit-learn/scikit-learn/issues/21755 */display: inline-block !important;position: relative;}#sk-container-id-3 div.sk-text-repr-fallback {display: none;}</style><div id=\"sk-container-id-3\" class=\"sk-top-container\"><div class=\"sk-text-repr-fallback\"><pre>SVC(gamma=&#x27;auto&#x27;)</pre><b>In a Jupyter environment, please rerun this cell to show the HTML representation or trust the notebook. <br />On GitHub, the HTML representation is unable to render, please try loading this page with nbviewer.org.</b></div><div class=\"sk-container\" hidden><div class=\"sk-item\"><div class=\"sk-estimator sk-toggleable\"><input class=\"sk-toggleable__control sk-hidden--visually\" id=\"sk-estimator-id-3\" type=\"checkbox\" checked><label for=\"sk-estimator-id-3\" class=\"sk-toggleable__label sk-toggleable__label-arrow\">SVC</label><div class=\"sk-toggleable__content\"><pre>SVC(gamma=&#x27;auto&#x27;)</pre></div></div></div></div></div>"
      ],
      "text/plain": [
       "SVC(gamma='auto')"
      ]
     },
     "execution_count": 92,
     "metadata": {},
     "output_type": "execute_result"
    }
   ],
   "source": [
    "\n",
    "from sklearn.svm import SVC\n",
    "svm = SVC(gamma='auto')\n",
    "svm.fit(X_down, y_down)"
   ]
  },
  {
   "cell_type": "code",
   "execution_count": 100,
   "id": "b64adabc",
   "metadata": {},
   "outputs": [
    {
     "name": "stdout",
     "output_type": "stream",
     "text": [
      "Accuracy:  0.93\n",
      "Precision:  0.66\n",
      "Recall:  0.58\n",
      "F1_score:  0.6\n",
      "\n",
      "Classification Report:\n",
      "              precision    recall  f1-score   support\n",
      "\n",
      "    Stream 0       0.95      0.98      0.96    227902\n",
      "    Stream 1       0.38      0.18      0.24     15694\n",
      "\n",
      "    accuracy                           0.93    243596\n",
      "   macro avg       0.66      0.58      0.60    243596\n",
      "weighted avg       0.91      0.93      0.92    243596\n",
      "\n"
     ]
    }
   ],
   "source": [
    "pred_svm = svm.predict(df_test_scaled.drop(TARGET, axis=1))\n",
    "pred_svm\n",
    "print_eval_metrics(pred_svm, df_test_scaled['stream_quality'])"
   ]
  },
  {
   "cell_type": "code",
   "execution_count": 177,
   "id": "07c751f8",
   "metadata": {},
   "outputs": [],
   "source": [
    "class_wise_scores['svc_resample'] = classification_report(df_test_scaled['stream_quality'], pred_svm, target_names=['0', '1'], output_dict=True)"
   ]
  },
  {
   "cell_type": "markdown",
   "id": "c34509f5",
   "metadata": {},
   "source": [
    "### Plotting class-wise scores"
   ]
  },
  {
   "cell_type": "code",
   "execution_count": 207,
   "id": "76753e41",
   "metadata": {},
   "outputs": [
    {
     "data": {
      "image/png": "[encoded data removed]",
      "text/plain": [
       "<Figure size 1000x500 with 1 Axes>"
      ]
     },
     "metadata": {},
     "output_type": "display_data"
    }
   ],
   "source": [
    "\n",
    "import numpy as np \n",
    "import matplotlib.pyplot as plt \n",
    "  \n",
    "X = ['Logistic Regression','LR Resampled Data','SVM Resampled']\n",
    "plt.figure(figsize=(10,5))\n",
    "\n",
    "lr_prec = [class_wise_scores['lr']['0']['f1-score'], class_wise_scores['lr_resample']['0']['f1-score'], class_wise_scores['svc_resample']['0']['f1-score']]\n",
    "lr_recall = [class_wise_scores['lr']['1']['f1-score'], class_wise_scores['lr_resample']['1']['f1-score'], class_wise_scores['svc_resample']['1']['f1-score']]\n",
    "\n",
    "X_axis = np.arange(len(X))\n",
    "\n",
    "bar_width = 0.15 \n",
    "plt.bar(X_axis - 0.1, lr_prec, bar_width, label = 'F1 class 0')\n",
    "plt.bar(X_axis + 0.1, lr_recall, bar_width, label = 'F1 class 1')\n",
    "  \n",
    "plt.xticks(X_axis, X)\n",
    "plt.xlabel(\"Classifiers\")\n",
    "plt.ylabel(\"Scores %\")\n",
    "plt.title(\"F-score comparison across different models\")\n",
    "plt.legend()\n",
    "plt.show()"
   ]
  },
  {
   "cell_type": "code",
   "execution_count": null,
   "id": "e9cdd43c",
   "metadata": {},
   "outputs": [],
   "source": []
  }
 ],
 "metadata": {
  "kernelspec": {
   "display_name": "ml_assg1",
   "language": "python",
   "name": "ml_assg1"
  },
  "language_info": {
   "codemirror_mode": {
    "name": "ipython",
    "version": 3
   },
   "file_extension": ".py",
   "mimetype": "text/x-python",
   "name": "python",
   "nbconvert_exporter": "python",
   "pygments_lexer": "ipython3",
   "version": "3.8.10"
  }
 },
 "nbformat": 4,
 "nbformat_minor": 5
}
